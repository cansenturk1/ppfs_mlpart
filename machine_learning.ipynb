{
 "cells": [
  {
   "cell_type": "markdown",
   "id": "843d0307",
   "metadata": {},
   "source": [
    "imports"
   ]
  },
  {
   "cell_type": "code",
   "execution_count": 31,
   "id": "8c42f540",
   "metadata": {},
   "outputs": [],
   "source": [
    "import pandas as pd\n",
    "import numpy as np\n",
    "from sklearn.model_selection import train_test_split\n",
    "from sklearn.metrics import accuracy_score, classification_report, confusion_matrix, precision_score, recall_score\n",
    "from sklearn.model_selection import StratifiedKFold, cross_validate"
   ]
  },
  {
   "cell_type": "code",
   "execution_count": 32,
   "id": "d1cbabdf",
   "metadata": {},
   "outputs": [],
   "source": [
    "\n",
    "def preprocess(file_path,split_value,target_column_index,has_header,delete_index_list,extraction_list):\n",
    "    \"\"\"this function is used for taking the dataset from .csv file making a test train split\n",
    "    and x, y split (has header is either True or False)\"\"\"\n",
    "\n",
    "    #reading the .csv\n",
    "    if has_header:\n",
    "        df = pd.read_csv(file_path, header=0, delimiter=\",\")  # First row as header\n",
    "        print(f\"Dataset shape: {df.shape}\")\n",
    "        print(f\"Column names: {list(df.columns)}\")\n",
    "    else:\n",
    "        df = pd.read_csv(file_path, header=None, delimiter=\",\")  # No header row\n",
    "        print(f\"Dataset shape: {df.shape}\")\n",
    "\n",
    "    df.drop(df.columns[delete_index_list], axis=1)\n",
    "    \n",
    "    #making target variable split\n",
    "    x_ds = df.drop(df.columns[target_column_index], axis=1)  # All except target\n",
    "    y_ds = df.iloc[:, target_column_index]  # Target column only\n",
    "\n",
    "    #making feature extraction\n",
    "    if extraction_list:\n",
    "        x_ds = x_ds.drop(extraction_list, axis=1)\n",
    "\n",
    "\n",
    "    #making test train split\n",
    "    x_train, x_test, y_train, y_test = train_test_split(x_ds, y_ds, test_size=split_value, random_state=10, shuffle= True)\n",
    "    print(f'shape of x training: {x_train.shape}')\n",
    "    print(f'shape of x testing: {x_test.shape}')\n",
    "\n",
    "    return x_train, x_test, y_train, y_test, x_ds, y_ds"
   ]
  },
  {
   "cell_type": "code",
   "execution_count": 33,
   "id": "cb769c75",
   "metadata": {},
   "outputs": [],
   "source": [
    "def implement(model):\n",
    "    \"\"\"this function contains implementation (modeling and fitting) on the dataset with 1 \n",
    "    initiation and shows the results of the implementations.\n",
    "    Note: This function doesn't have compile so it is not appoprate to use this function for perceptron learning algs.\n",
    "    because it doesn't have training vs test accuracy comparison and doesn't have epochs and .argmax(axis=1) \"\"\"\n",
    "    #initiante ml\n",
    "    model.fit(x_train, y_train)\n",
    "    #model evaluation\n",
    "    y_pred = model.predict(x_test)\n",
    "\n",
    "    print(f'Classification report: {classification_report(y_test, y_pred)}')\n",
    "    print(f\"Accuracy score is: {accuracy_score(y_test,y_pred)}\")\n",
    "    print(f\"Precision score is: {precision_score(y_test,y_pred, average='weighted')}\")\n",
    "    print(f\"Recall score is: {recall_score(y_test,y_pred, average='weighted')}\")\n",
    "    print(f'Confusion matrix: \\n{confusion_matrix(y_test, y_pred)}')\n",
    "\n",
    "    # StratifiedKFold evaluations\n",
    "    skf = StratifiedKFold(n_splits=10, shuffle=True, random_state=10)\n",
    "    scoring = ['accuracy', 'precision_weighted', 'recall_weighted']\n",
    "    cv_results = cross_validate(model, x_ds, y_ds, cv=skf, scoring=scoring)\n",
    "    print(f\"StratifiedKFold CV Accuracy: {cv_results['test_accuracy'].mean():.4f} (+/- {cv_results['test_accuracy'].std() * 2:.4f})\")\n",
    "    print(f\"StratifiedKFold CV Precision: {cv_results['test_precision_weighted'].mean():.4f} (+/- {cv_results['test_precision_weighted'].std() * 2:.4f})\")\n",
    "    print(f\"StratifiedKFold CV Recall: {cv_results['test_recall_weighted'].mean():.4f} (+/- {cv_results['test_recall_weighted'].std() * 2:.4f})\")\n",
    "        "
   ]
  },
  {
   "cell_type": "markdown",
   "id": "e68b2693",
   "metadata": {},
   "source": [
    "Select the dataset!\n",
    "\n",
    "Runs the preprocess for diffrent datasets."
   ]
  },
  {
   "cell_type": "markdown",
   "id": "65c5cd02",
   "metadata": {},
   "source": [
    "x_train, x_test, y_train, y_test, x_ds, y_ds = preprocess(\"beans_kmeans.csv\", 0.2, 16, True, [], [])"
   ]
  },
  {
   "cell_type": "code",
   "execution_count": 34,
   "id": "184a7454",
   "metadata": {},
   "outputs": [
    {
     "name": "stdout",
     "output_type": "stream",
     "text": [
      "Dataset shape: (13611, 17)\n",
      "Column names: ['Area', 'Perimeter', 'MajorAxisLength', 'MinorAxisLength', 'AspectRation', 'Eccentricity', 'ConvexArea', 'EquivDiameter', 'Extent', 'Solidity', 'roundness', 'Compactness', 'ShapeFactor1', 'ShapeFactor2', 'ShapeFactor3', 'ShapeFactor4', 'Class']\n",
      "shape of x training: (10888, 9)\n",
      "shape of x testing: (2723, 9)\n"
     ]
    }
   ],
   "source": [
    "x_train, x_test, y_train, y_test, x_ds, y_ds = preprocess(\"beans_kmeans.csv\", 0.2, 16, True, [],[\"ShapeFactor2\",\"Compactness\",\"ShapeFactor3\",\"roundness\",\"MajorAxisLength\",\"Eccentricity\",\"AspectRation\"] )"
   ]
  },
  {
   "cell_type": "markdown",
   "id": "b5888940",
   "metadata": {},
   "source": [
    "x_train, x_test, y_train, y_test, x_ds, y_ds = preprocess(\"diabetes_kmeans.csv\", 0.2, 8, True)"
   ]
  },
  {
   "cell_type": "markdown",
   "id": "92cab410",
   "metadata": {},
   "source": [
    "x_train, x_test, y_train, y_test, x_ds, y_ds = preprocess(\"divorce.csv\", 0.2, 54, True)"
   ]
  },
  {
   "cell_type": "markdown",
   "id": "f054b17a",
   "metadata": {},
   "source": [
    "x_train, x_test, y_train, y_test, x_ds, y_ds = preprocess(\"parkinsons_kmeans.csv\", 0.2, 17, True)"
   ]
  },
  {
   "cell_type": "markdown",
   "id": "a1930ac9",
   "metadata": {},
   "source": [
    "x_train, x_test, y_train, y_test, x_ds, y_ds = preprocess(\"rice_binned_kmeans.csv\", 0.2, 7, True)"
   ]
  },
  {
   "cell_type": "markdown",
   "id": "f4d39b8d",
   "metadata": {},
   "source": [
    "x_train, x_test, y_train, y_test, x_ds, y_ds = preprocess(\"wdbc_binned_kmeans.csv\", 0.2, 1, True)"
   ]
  },
  {
   "cell_type": "markdown",
   "id": "2a658522",
   "metadata": {},
   "source": [
    "Run the implement function for diffrent models"
   ]
  },
  {
   "cell_type": "code",
   "execution_count": 35,
   "id": "27c4bcee",
   "metadata": {},
   "outputs": [
    {
     "name": "stdout",
     "output_type": "stream",
     "text": [
      "Classification report:               precision    recall  f1-score   support\n",
      "\n",
      "    BARBUNYA       0.87      0.83      0.85       233\n",
      "      BOMBAY       1.00      0.99      1.00       118\n",
      "        CALI       0.87      0.94      0.91       330\n",
      "    DERMASON       0.88      0.91      0.89       706\n",
      "       HOROZ       0.95      0.88      0.92       396\n",
      "       SEKER       0.92      0.92      0.92       411\n",
      "        SIRA       0.81      0.79      0.80       529\n",
      "\n",
      "    accuracy                           0.88      2723\n",
      "   macro avg       0.90      0.90      0.90      2723\n",
      "weighted avg       0.88      0.88      0.88      2723\n",
      "\n",
      "Accuracy score is: 0.884318766066838\n",
      "Precision score is: 0.88478534286447\n",
      "Recall score is: 0.884318766066838\n",
      "Confusion matrix: \n",
      "[[194   0  32   0   0   2   5]\n",
      " [  0 117   1   0   0   0   0]\n",
      " [ 13   0 311   0   3   2   1]\n",
      " [  0   0   0 640   0  13  53]\n",
      " [  3   0  13   8 350   0  22]\n",
      " [  7   0   0   8   0 379  17]\n",
      " [  5   0   0  74  15  18 417]]\n",
      "StratifiedKFold CV Accuracy: 0.8860 (+/- 0.0137)\n",
      "StratifiedKFold CV Precision: 0.8880 (+/- 0.0128)\n",
      "StratifiedKFold CV Recall: 0.8860 (+/- 0.0137)\n"
     ]
    }
   ],
   "source": [
    "#KNN\n",
    "from sklearn.neighbors import KNeighborsClassifier\n",
    "implement(KNeighborsClassifier())"
   ]
  },
  {
   "cell_type": "code",
   "execution_count": 36,
   "id": "fdd68222",
   "metadata": {},
   "outputs": [
    {
     "name": "stdout",
     "output_type": "stream",
     "text": [
      "Classification report:               precision    recall  f1-score   support\n",
      "\n",
      "    BARBUNYA       0.82      0.76      0.79       233\n",
      "      BOMBAY       1.00      0.92      0.96       118\n",
      "        CALI       0.78      0.89      0.83       330\n",
      "    DERMASON       0.82      0.89      0.85       706\n",
      "       HOROZ       0.94      0.72      0.81       396\n",
      "       SEKER       0.94      0.73      0.82       411\n",
      "        SIRA       0.71      0.85      0.77       529\n",
      "\n",
      "    accuracy                           0.82      2723\n",
      "   macro avg       0.86      0.82      0.83      2723\n",
      "weighted avg       0.84      0.82      0.82      2723\n",
      "\n",
      "Accuracy score is: 0.8229893499816379\n",
      "Precision score is: 0.8364829381240463\n",
      "Recall score is: 0.8229893499816379\n",
      "Confusion matrix: \n",
      "[[176   0  47   0   0   0  10]\n",
      " [  0 109   9   0   0   0   0]\n",
      " [ 28   0 293   0   7   0   2]\n",
      " [  0   0   0 629   0   5  72]\n",
      " [  2   0  22  19 284   0  69]\n",
      " [  6   0   1  74   0 302  28]\n",
      " [  3   0   4  49  10  15 448]]\n"
     ]
    },
    {
     "name": "stderr",
     "output_type": "stream",
     "text": [
      "/Users/Can/VsCodeProjects/bitirme projesi/ppfs_mlpart/.venv/lib/python3.12/site-packages/sklearn/metrics/_classification.py:1731: UndefinedMetricWarning: Precision is ill-defined and being set to 0.0 in labels with no predicted samples. Use `zero_division` parameter to control this behavior.\n",
      "  _warn_prf(average, modifier, f\"{metric.capitalize()} is\", result.shape[0])\n",
      "/Users/Can/VsCodeProjects/bitirme projesi/ppfs_mlpart/.venv/lib/python3.12/site-packages/sklearn/metrics/_classification.py:1731: UndefinedMetricWarning: Precision is ill-defined and being set to 0.0 in labels with no predicted samples. Use `zero_division` parameter to control this behavior.\n",
      "  _warn_prf(average, modifier, f\"{metric.capitalize()} is\", result.shape[0])\n"
     ]
    },
    {
     "name": "stdout",
     "output_type": "stream",
     "text": [
      "StratifiedKFold CV Accuracy: 0.8041 (+/- 0.0660)\n",
      "StratifiedKFold CV Precision: 0.8194 (+/- 0.0724)\n",
      "StratifiedKFold CV Recall: 0.8041 (+/- 0.0660)\n"
     ]
    },
    {
     "name": "stderr",
     "output_type": "stream",
     "text": [
      "/Users/Can/VsCodeProjects/bitirme projesi/ppfs_mlpart/.venv/lib/python3.12/site-packages/sklearn/metrics/_classification.py:1731: UndefinedMetricWarning: Precision is ill-defined and being set to 0.0 in labels with no predicted samples. Use `zero_division` parameter to control this behavior.\n",
      "  _warn_prf(average, modifier, f\"{metric.capitalize()} is\", result.shape[0])\n"
     ]
    }
   ],
   "source": [
    "#Ada Boost\n",
    "from sklearn.ensemble import AdaBoostClassifier \n",
    "implement(AdaBoostClassifier(n_estimators=100, random_state = 10))"
   ]
  },
  {
   "cell_type": "code",
   "execution_count": 37,
   "id": "fba3aeb4",
   "metadata": {},
   "outputs": [
    {
     "name": "stdout",
     "output_type": "stream",
     "text": [
      "Classification report:               precision    recall  f1-score   support\n",
      "\n",
      "    BARBUNYA       0.91      0.85      0.88       233\n",
      "      BOMBAY       1.00      0.99      1.00       118\n",
      "        CALI       0.86      0.94      0.90       330\n",
      "    DERMASON       0.91      0.88      0.90       706\n",
      "       HOROZ       0.96      0.90      0.93       396\n",
      "       SEKER       0.93      0.91      0.92       411\n",
      "        SIRA       0.81      0.88      0.84       529\n",
      "\n",
      "    accuracy                           0.90      2723\n",
      "   macro avg       0.91      0.91      0.91      2723\n",
      "weighted avg       0.90      0.90      0.90      2723\n",
      "\n",
      "Accuracy score is: 0.8979067205288285\n",
      "Precision score is: 0.9003923774992515\n",
      "Recall score is: 0.8979067205288285\n",
      "Confusion matrix: \n",
      "[[198   0  28   0   1   0   6]\n",
      " [  0 117   1   0   0   0   0]\n",
      " [ 11   0 311   0   6   2   0]\n",
      " [  0   0   0 622   1  12  71]\n",
      " [  0   0  15  10 357   0  14]\n",
      " [  8   0   0  12   0 376  15]\n",
      " [  1   0   5  37   7  15 464]]\n",
      "StratifiedKFold CV Accuracy: 0.9013 (+/- 0.0130)\n",
      "StratifiedKFold CV Precision: 0.9036 (+/- 0.0134)\n",
      "StratifiedKFold CV Recall: 0.9013 (+/- 0.0130)\n"
     ]
    }
   ],
   "source": [
    "#SVM\n",
    "from sklearn.svm import SVC \n",
    "implement(SVC(max_iter = -1, random_state=10))"
   ]
  },
  {
   "cell_type": "code",
   "execution_count": 38,
   "id": "1c80a70a",
   "metadata": {},
   "outputs": [
    {
     "name": "stdout",
     "output_type": "stream",
     "text": [
      "Classification report:               precision    recall  f1-score   support\n",
      "\n",
      "    BARBUNYA       0.82      0.67      0.74       233\n",
      "      BOMBAY       1.00      1.00      1.00       118\n",
      "        CALI       0.81      0.89      0.85       330\n",
      "    DERMASON       0.87      0.85      0.86       706\n",
      "       HOROZ       0.85      0.80      0.82       396\n",
      "       SEKER       0.77      0.82      0.79       411\n",
      "        SIRA       0.77      0.80      0.78       529\n",
      "\n",
      "    accuracy                           0.82      2723\n",
      "   macro avg       0.84      0.83      0.83      2723\n",
      "weighted avg       0.82      0.82      0.82      2723\n",
      "\n",
      "Accuracy score is: 0.8233565919941241\n",
      "Precision score is: 0.8248712339668623\n",
      "Recall score is: 0.8233565919941241\n",
      "Confusion matrix: \n",
      "[[155   0  57   0  13   0   8]\n",
      " [  0 118   0   0   0   0   0]\n",
      " [ 23   0 295   0  11   1   0]\n",
      " [  0   0   0 600   0  50  56]\n",
      " [  6   0  14  22 317   0  37]\n",
      " [  4   0   0  41   4 336  26]\n",
      " [  0   0   0  30  29  49 421]]\n",
      "StratifiedKFold CV Accuracy: 0.8251 (+/- 0.0289)\n",
      "StratifiedKFold CV Precision: 0.8274 (+/- 0.0303)\n",
      "StratifiedKFold CV Recall: 0.8251 (+/- 0.0289)\n"
     ]
    }
   ],
   "source": [
    "#Gaussian Naive Bayes\n",
    "from sklearn.naive_bayes import GaussianNB \n",
    "implement(GaussianNB())"
   ]
  },
  {
   "cell_type": "code",
   "execution_count": 39,
   "id": "c072b9cb",
   "metadata": {},
   "outputs": [
    {
     "name": "stdout",
     "output_type": "stream",
     "text": [
      "Classification report:               precision    recall  f1-score   support\n",
      "\n",
      "    BARBUNYA       0.88      0.83      0.85       233\n",
      "      BOMBAY       1.00      1.00      1.00       118\n",
      "        CALI       0.87      0.91      0.89       330\n",
      "    DERMASON       0.87      0.89      0.88       706\n",
      "       HOROZ       0.93      0.90      0.92       396\n",
      "       SEKER       0.91      0.91      0.91       411\n",
      "        SIRA       0.80      0.78      0.79       529\n",
      "\n",
      "    accuracy                           0.88      2723\n",
      "   macro avg       0.89      0.89      0.89      2723\n",
      "weighted avg       0.88      0.88      0.88      2723\n",
      "\n",
      "Accuracy score is: 0.876239441792141\n",
      "Precision score is: 0.8762276543821411\n",
      "Recall score is: 0.876239441792141\n",
      "Confusion matrix: \n",
      "[[193   0  30   0   1   2   7]\n",
      " [  0 118   0   0   0   0   0]\n",
      " [ 17   0 301   0   8   2   2]\n",
      " [  0   0   0 629   2  15  60]\n",
      " [  1   0  13   8 358   0  16]\n",
      " [  4   0   0  11   0 375  21]\n",
      " [  5   0   2  76  15  19 412]]\n",
      "StratifiedKFold CV Accuracy: 0.8943 (+/- 0.0155)\n",
      "StratifiedKFold CV Precision: 0.8949 (+/- 0.0158)\n",
      "StratifiedKFold CV Recall: 0.8943 (+/- 0.0155)\n"
     ]
    }
   ],
   "source": [
    "#Random Forests\n",
    "from sklearn.ensemble import RandomForestClassifier\n",
    "implement(RandomForestClassifier())\n"
   ]
  },
  {
   "cell_type": "code",
   "execution_count": 40,
   "id": "816975ec",
   "metadata": {},
   "outputs": [
    {
     "name": "stdout",
     "output_type": "stream",
     "text": [
      "Classification report:               precision    recall  f1-score   support\n",
      "\n",
      "    BARBUNYA       0.82      0.83      0.82       233\n",
      "      BOMBAY       1.00      0.99      1.00       118\n",
      "        CALI       0.87      0.88      0.87       330\n",
      "    DERMASON       0.83      0.89      0.86       706\n",
      "       HOROZ       0.91      0.91      0.91       396\n",
      "       SEKER       0.90      0.90      0.90       411\n",
      "        SIRA       0.78      0.70      0.74       529\n",
      "\n",
      "    accuracy                           0.85      2723\n",
      "   macro avg       0.87      0.87      0.87      2723\n",
      "weighted avg       0.85      0.85      0.85      2723\n",
      "\n",
      "Accuracy score is: 0.8549394050679398\n",
      "Precision score is: 0.8540822806205586\n",
      "Recall score is: 0.8549394050679398\n",
      "Confusion matrix: \n",
      "[[194   0  26   1   3   3   6]\n",
      " [  1 117   0   0   0   0   0]\n",
      " [ 26   0 289   0  10   2   3]\n",
      " [  0   0   0 627   3  16  60]\n",
      " [  1   0  13   7 359   0  16]\n",
      " [  6   0   0  17   1 370  17]\n",
      " [ 10   0   4 103  19  21 372]]\n",
      "StratifiedKFold CV Accuracy: 0.8714 (+/- 0.0144)\n",
      "StratifiedKFold CV Precision: 0.8716 (+/- 0.0149)\n",
      "StratifiedKFold CV Recall: 0.8714 (+/- 0.0144)\n"
     ]
    }
   ],
   "source": [
    "#Decesion Trees\n",
    "from sklearn.tree import DecisionTreeClassifier\n",
    "implement(DecisionTreeClassifier())"
   ]
  }
 ],
 "metadata": {
  "kernelspec": {
   "display_name": ".venv",
   "language": "python",
   "name": "python3"
  },
  "language_info": {
   "codemirror_mode": {
    "name": "ipython",
    "version": 3
   },
   "file_extension": ".py",
   "mimetype": "text/x-python",
   "name": "python",
   "nbconvert_exporter": "python",
   "pygments_lexer": "ipython3",
   "version": "3.12.5"
  }
 },
 "nbformat": 4,
 "nbformat_minor": 5
}
