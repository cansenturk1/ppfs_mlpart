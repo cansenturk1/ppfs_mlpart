{
 "cells": [
  {
   "cell_type": "markdown",
   "id": "843d0307",
   "metadata": {},
   "source": [
    "imports"
   ]
  },
  {
   "cell_type": "code",
   "execution_count": 146,
   "id": "8c42f540",
   "metadata": {},
   "outputs": [],
   "source": [
    "import pandas as pd\n",
    "import numpy as np\n",
    "from sklearn.model_selection import train_test_split\n",
    "from sklearn.metrics import accuracy_score, classification_report, confusion_matrix, precision_score, recall_score, balanced_accuracy_score\n",
    "from sklearn.model_selection import StratifiedKFold, cross_validate"
   ]
  },
  {
   "cell_type": "code",
   "execution_count": 147,
   "id": "d1cbabdf",
   "metadata": {},
   "outputs": [],
   "source": [
    "\n",
    "def preprocess(file_path,split_value,target_column_index,has_header,delete_list,extraction_list):\n",
    "    \"\"\"this function is used for taking the dataset from .csv file making a test train split\n",
    "    and x, y split (has header is either True or False)\"\"\"\n",
    "\n",
    "    #reading the .csv\n",
    "    if has_header:\n",
    "        df = pd.read_csv(file_path, header=0, delimiter=\",\")  # First row as header\n",
    "        print(f\"Dataset shape: {df.shape}\")\n",
    "        print(f\"Column names: {list(df.columns)}\")\n",
    "    else:\n",
    "        df = pd.read_csv(file_path, header=None, delimiter=\",\")  # No header row\n",
    "        print(f\"Dataset shape: {df.shape}\")\n",
    "\n",
    "    \n",
    "    #making target variable split\n",
    "    x_ds = df.drop(df.columns[target_column_index], axis=1)  # All except target\n",
    "    y_ds = df.iloc[:, target_column_index]  # Target column only\n",
    "\n",
    "    x_ds = x_ds.drop(columns = delete_list + extraction_list)\n",
    "    #making test train split\n",
    "    x_train, x_test, y_train, y_test = train_test_split(x_ds, y_ds, test_size=split_value, random_state=10, shuffle= True)\n",
    "    print(f'shape of x training: {x_train.shape}')\n",
    "    print(f'shape of x testing: {x_test.shape}')\n",
    "\n",
    "    return x_train, x_test, y_train, y_test, x_ds, y_ds"
   ]
  },
  {
   "cell_type": "code",
   "execution_count": 148,
   "id": "cb769c75",
   "metadata": {},
   "outputs": [
    {
     "name": "stderr",
     "output_type": "stream",
     "text": [
      "<>:24: SyntaxWarning: invalid escape sequence '\\s'\n",
      "<>:25: SyntaxWarning: invalid escape sequence '\\s'\n",
      "<>:26: SyntaxWarning: invalid escape sequence '\\s'\n",
      "<>:27: SyntaxWarning: invalid escape sequence '\\s'\n",
      "<>:24: SyntaxWarning: invalid escape sequence '\\s'\n",
      "<>:25: SyntaxWarning: invalid escape sequence '\\s'\n",
      "<>:26: SyntaxWarning: invalid escape sequence '\\s'\n",
      "<>:27: SyntaxWarning: invalid escape sequence '\\s'\n",
      "C:\\Users\\canse\\AppData\\Local\\Temp\\ipykernel_256\\3203689100.py:24: SyntaxWarning: invalid escape sequence '\\s'\n",
      "  print(f\"StratifiedKFold CV Balanced Accuracy: {cv_results['test_balanced_accuracy'].mean():.3f}\\scriptsize(±{cv_results['test_balanced_accuracy'].std() * 2:.2f})\")\n",
      "C:\\Users\\canse\\AppData\\Local\\Temp\\ipykernel_256\\3203689100.py:25: SyntaxWarning: invalid escape sequence '\\s'\n",
      "  print(f\"StratifiedKFold CV Accuracy: {cv_results['test_accuracy'].mean():.3f}\\scriptsize(±{cv_results['test_accuracy'].std() * 2:.2f})\")\n",
      "C:\\Users\\canse\\AppData\\Local\\Temp\\ipykernel_256\\3203689100.py:26: SyntaxWarning: invalid escape sequence '\\s'\n",
      "  print(f\"StratifiedKFold CV Precision: {cv_results['test_precision_weighted'].mean():.3f}\\scriptsize(±{cv_results['test_precision_weighted'].std() * 2:.2f})\")\n",
      "C:\\Users\\canse\\AppData\\Local\\Temp\\ipykernel_256\\3203689100.py:27: SyntaxWarning: invalid escape sequence '\\s'\n",
      "  print(f\"StratifiedKFold CV Recall: {cv_results['test_recall_weighted'].mean():.3f}\\scriptsize(±{cv_results['test_recall_weighted'].std() * 2:.2f})\")\n"
     ]
    }
   ],
   "source": [
    "def implement(model):\n",
    "    \"\"\"this function contains implementation (modeling and fitting) on the dataset with 1 \n",
    "    initiation and shows the results of the implementations.\n",
    "    Note: This function doesn't have compile so it is not appoprate to use this function for perceptron learning algs.\n",
    "    because it doesn't have training vs test accuracy comparison and doesn't have epochs and .argmax(axis=1) \"\"\"\n",
    "    #initiante ml\n",
    "    model.fit(x_train, y_train)\n",
    "    #model evaluation\n",
    "    y_pred = model.predict(x_test)\n",
    "\n",
    "    print(f'Confusion matrix: \\n{confusion_matrix(y_test, y_pred)}')\n",
    "    print(f'Classification report: {classification_report(y_test, y_pred)}')\n",
    "    print(f\"Accuracy score is: {accuracy_score(y_test,y_pred):.3f}\")\n",
    "    print(f\"Balanced accuracy score is: {balanced_accuracy_score(y_test,y_pred):.3f}\")\n",
    "    print(f\"Precision score is: {precision_score(y_test,y_pred, average='weighted'):.3f}\")\n",
    "    print(f\"Recall score is: {recall_score(y_test,y_pred, average='weighted'):.3f}\")\n",
    "    \n",
    "    # StratifiedKFold evaluations\n",
    "    skf = StratifiedKFold(n_splits=10, shuffle=True, random_state=10)\n",
    "    scoring = ['balanced_accuracy', 'accuracy', 'precision_weighted', 'recall_weighted']\n",
    "    cv_results = cross_validate(model, x_ds, y_ds, cv=skf, scoring=scoring)\n",
    "\n",
    "\n",
    "    print(f\"StratifiedKFold CV Balanced Accuracy: {cv_results['test_balanced_accuracy'].mean():.3f}\\scriptsize(±{cv_results['test_balanced_accuracy'].std() * 2:.2f})\")\n",
    "    print(f\"StratifiedKFold CV Accuracy: {cv_results['test_accuracy'].mean():.3f}\\scriptsize(±{cv_results['test_accuracy'].std() * 2:.2f})\")\n",
    "    print(f\"StratifiedKFold CV Precision: {cv_results['test_precision_weighted'].mean():.3f}\\scriptsize(±{cv_results['test_precision_weighted'].std() * 2:.2f})\")\n",
    "    print(f\"StratifiedKFold CV Recall: {cv_results['test_recall_weighted'].mean():.3f}\\scriptsize(±{cv_results['test_recall_weighted'].std() * 2:.2f})\")\n",
    "        "
   ]
  },
  {
   "cell_type": "markdown",
   "id": "e68b2693",
   "metadata": {},
   "source": [
    "Select the dataset!\n",
    "\n",
    "Runs the preprocess for diffrent datasets."
   ]
  },
  {
   "cell_type": "markdown",
   "id": "65c5cd02",
   "metadata": {},
   "source": [
    "x_train, x_test, y_train, y_test, x_ds, y_ds = preprocess(\"beans_kmeans.csv\", 0.2, 16, True, [], [])"
   ]
  },
  {
   "cell_type": "markdown",
   "id": "184a7454",
   "metadata": {},
   "source": [
    "x_train, x_test, y_train, y_test, x_ds, y_ds = preprocess(\"beans_kmeans.csv\", 0.2, 16, True, [],[\"ShapeFactor2\",\"Compactness\",\"ShapeFactor3\",\"roundness\",\"MajorAxisLength\",\"Eccentricity\",\"AspectRation\"] )"
   ]
  },
  {
   "cell_type": "markdown",
   "id": "b5888940",
   "metadata": {},
   "source": [
    "x_train, x_test, y_train, y_test, x_ds, y_ds = preprocess(\"diabetes_kmeans.csv\", 0.2, 8, True, [], [])"
   ]
  },
  {
   "cell_type": "markdown",
   "id": "97c5a670",
   "metadata": {},
   "source": [
    "x_train, x_test, y_train, y_test, x_ds, y_ds = preprocess(\"diabetes_kmeans.csv\", 0.2, 8, True, [], [])"
   ]
  },
  {
   "cell_type": "markdown",
   "id": "92cab410",
   "metadata": {},
   "source": [
    "x_train, x_test, y_train, y_test, x_ds, y_ds = preprocess(\"divorce.csv\", 0.2, 54, True, [], [])"
   ]
  },
  {
   "cell_type": "markdown",
   "id": "ed001548",
   "metadata": {},
   "source": [
    "x_train, x_test, y_train, y_test, x_ds, y_ds = preprocess(\"divorce.csv\", 0.2, 54, True, [], ['Atr32','Atr33','Atr34','Atr35','Atr36','Atr52','Atr54'])"
   ]
  },
  {
   "cell_type": "markdown",
   "id": "f054b17a",
   "metadata": {},
   "source": [
    "x_train, x_test, y_train, y_test, x_ds, y_ds = preprocess(\"parkinsons_kmeans.csv\", 0.2, 17, True, ['name'], [])"
   ]
  },
  {
   "cell_type": "markdown",
   "id": "0209cca2",
   "metadata": {},
   "source": [
    "x_train, x_test, y_train, y_test, x_ds, y_ds = preprocess(\"parkinsons_kmeans.csv\", 0.2, 17, True, ['name'], ['spread1','HNR','PPE','MDVP:APQ'])"
   ]
  },
  {
   "cell_type": "markdown",
   "id": "a1930ac9",
   "metadata": {},
   "source": [
    "x_train, x_test, y_train, y_test, x_ds, y_ds = preprocess(\"rice_binned_kmeans.csv\", 0.2, 7, True, [], ['Eccentricity', 'Major_Axis_Length', 'Perimeter'])"
   ]
  },
  {
   "cell_type": "markdown",
   "id": "fd2af581",
   "metadata": {},
   "source": [
    "x_train, x_test, y_train, y_test, x_ds, y_ds = preprocess(\"rice_binned_kmeans.csv\", 0.2, 7, True, [], [])"
   ]
  },
  {
   "cell_type": "code",
   "execution_count": 149,
   "id": "f4d39b8d",
   "metadata": {},
   "outputs": [
    {
     "name": "stdout",
     "output_type": "stream",
     "text": [
      "Dataset shape: (569, 32)\n",
      "Column names: ['ID', 'Diagnosis', 'Radius_Mean', 'Texture_Mean', 'Perimeter_Mean', 'Area_Mean', 'Smoothness_Mean', 'Compactness_Mean', 'Concavity_Mean', 'Concave_Points_Mean', 'Symmetry_Mean', 'Fractal_Dimension_Mean', 'Radius_SE', 'Texture_SE', 'Perimeter_SE', 'Area_SE', 'Smoothness_SE', 'Compactness_SE', 'Concavity_SE', 'Concave_Points_SE', 'Symmetry_SE', 'Fractal_Dimension_SE', 'Radius_Worst', 'Texture_Worst', 'Perimeter_Worst', 'Area_Worst', 'Smoothness_Worst', 'Compactness_Worst', 'Concavity_Worst', 'Concave_Points_Worst', 'Symmetry_Worst', 'Fractal_Dimension_Worst']\n",
      "shape of x training: (455, 30)\n",
      "shape of x testing: (114, 30)\n"
     ]
    }
   ],
   "source": [
    "x_train, x_test, y_train, y_test, x_ds, y_ds = preprocess(\"wdbc_binned_kmeans.csv\", 0.2, 1, True, ['ID'], [])"
   ]
  },
  {
   "cell_type": "markdown",
   "id": "ced61ffe",
   "metadata": {},
   "source": [
    "x_train, x_test, y_train, y_test, x_ds, y_ds = preprocess(\"wdbc_binned_kmeans.csv\", 0.2, 1, True, ['ID'], [])"
   ]
  },
  {
   "cell_type": "markdown",
   "id": "2a658522",
   "metadata": {},
   "source": [
    "Run the implement function for diffrent models"
   ]
  },
  {
   "cell_type": "code",
   "execution_count": 150,
   "id": "27c4bcee",
   "metadata": {},
   "outputs": [
    {
     "name": "stdout",
     "output_type": "stream",
     "text": [
      "Confusion matrix: \n",
      "[[74  1]\n",
      " [ 1 38]]\n",
      "Classification report:               precision    recall  f1-score   support\n",
      "\n",
      "           B       0.99      0.99      0.99        75\n",
      "           M       0.97      0.97      0.97        39\n",
      "\n",
      "    accuracy                           0.98       114\n",
      "   macro avg       0.98      0.98      0.98       114\n",
      "weighted avg       0.98      0.98      0.98       114\n",
      "\n",
      "Accuracy score is: 0.982\n",
      "Balanced accuracy score is: 0.981\n",
      "Precision score is: 0.982\n",
      "Recall score is: 0.982\n",
      "StratifiedKFold CV Balanced Accuracy: 0.965\\scriptsize(±0.05)\n",
      "StratifiedKFold CV Accuracy: 0.970\\scriptsize(±0.04)\n",
      "StratifiedKFold CV Precision: 0.971\\scriptsize(±0.04)\n",
      "StratifiedKFold CV Recall: 0.970\\scriptsize(±0.04)\n"
     ]
    }
   ],
   "source": [
    "#KNN\n",
    "from sklearn.neighbors import KNeighborsClassifier\n",
    "implement(KNeighborsClassifier())"
   ]
  },
  {
   "cell_type": "code",
   "execution_count": 151,
   "id": "fdd68222",
   "metadata": {},
   "outputs": [
    {
     "name": "stdout",
     "output_type": "stream",
     "text": [
      "Confusion matrix: \n",
      "[[73  2]\n",
      " [ 0 39]]\n",
      "Classification report:               precision    recall  f1-score   support\n",
      "\n",
      "           B       1.00      0.97      0.99        75\n",
      "           M       0.95      1.00      0.97        39\n",
      "\n",
      "    accuracy                           0.98       114\n",
      "   macro avg       0.98      0.99      0.98       114\n",
      "weighted avg       0.98      0.98      0.98       114\n",
      "\n",
      "Accuracy score is: 0.982\n",
      "Balanced accuracy score is: 0.987\n",
      "Precision score is: 0.983\n",
      "Recall score is: 0.982\n",
      "StratifiedKFold CV Balanced Accuracy: 0.970\\scriptsize(±0.05)\n",
      "StratifiedKFold CV Accuracy: 0.974\\scriptsize(±0.04)\n",
      "StratifiedKFold CV Precision: 0.975\\scriptsize(±0.04)\n",
      "StratifiedKFold CV Recall: 0.974\\scriptsize(±0.04)\n"
     ]
    }
   ],
   "source": [
    "#Ada Boost\n",
    "from sklearn.ensemble import AdaBoostClassifier \n",
    "implement(AdaBoostClassifier(n_estimators=100, random_state = 10))"
   ]
  },
  {
   "cell_type": "code",
   "execution_count": 152,
   "id": "fba3aeb4",
   "metadata": {},
   "outputs": [
    {
     "name": "stdout",
     "output_type": "stream",
     "text": [
      "Confusion matrix: \n",
      "[[74  1]\n",
      " [ 0 39]]\n",
      "Classification report:               precision    recall  f1-score   support\n",
      "\n",
      "           B       1.00      0.99      0.99        75\n",
      "           M       0.97      1.00      0.99        39\n",
      "\n",
      "    accuracy                           0.99       114\n",
      "   macro avg       0.99      0.99      0.99       114\n",
      "weighted avg       0.99      0.99      0.99       114\n",
      "\n",
      "Accuracy score is: 0.991\n",
      "Balanced accuracy score is: 0.993\n",
      "Precision score is: 0.991\n",
      "Recall score is: 0.991\n",
      "StratifiedKFold CV Balanced Accuracy: 0.973\\scriptsize(±0.05)\n",
      "StratifiedKFold CV Accuracy: 0.977\\scriptsize(±0.04)\n",
      "StratifiedKFold CV Precision: 0.978\\scriptsize(±0.04)\n",
      "StratifiedKFold CV Recall: 0.977\\scriptsize(±0.04)\n"
     ]
    }
   ],
   "source": [
    "#SVM\n",
    "from sklearn.svm import SVC \n",
    "implement(SVC(max_iter = -1, random_state=10))"
   ]
  },
  {
   "cell_type": "code",
   "execution_count": 153,
   "id": "1c80a70a",
   "metadata": {},
   "outputs": [
    {
     "name": "stdout",
     "output_type": "stream",
     "text": [
      "Confusion matrix: \n",
      "[[71  4]\n",
      " [ 1 38]]\n",
      "Classification report:               precision    recall  f1-score   support\n",
      "\n",
      "           B       0.99      0.95      0.97        75\n",
      "           M       0.90      0.97      0.94        39\n",
      "\n",
      "    accuracy                           0.96       114\n",
      "   macro avg       0.95      0.96      0.95       114\n",
      "weighted avg       0.96      0.96      0.96       114\n",
      "\n",
      "Accuracy score is: 0.956\n",
      "Balanced accuracy score is: 0.961\n",
      "Precision score is: 0.958\n",
      "Recall score is: 0.956\n",
      "StratifiedKFold CV Balanced Accuracy: 0.934\\scriptsize(±0.07)\n",
      "StratifiedKFold CV Accuracy: 0.939\\scriptsize(±0.07)\n",
      "StratifiedKFold CV Precision: 0.939\\scriptsize(±0.07)\n",
      "StratifiedKFold CV Recall: 0.939\\scriptsize(±0.07)\n"
     ]
    }
   ],
   "source": [
    "#Gaussian Naive Bayes\n",
    "from sklearn.naive_bayes import GaussianNB \n",
    "implement(GaussianNB())"
   ]
  },
  {
   "cell_type": "code",
   "execution_count": 154,
   "id": "c072b9cb",
   "metadata": {},
   "outputs": [
    {
     "name": "stdout",
     "output_type": "stream",
     "text": [
      "Confusion matrix: \n",
      "[[73  2]\n",
      " [ 1 38]]\n",
      "Classification report:               precision    recall  f1-score   support\n",
      "\n",
      "           B       0.99      0.97      0.98        75\n",
      "           M       0.95      0.97      0.96        39\n",
      "\n",
      "    accuracy                           0.97       114\n",
      "   macro avg       0.97      0.97      0.97       114\n",
      "weighted avg       0.97      0.97      0.97       114\n",
      "\n",
      "Accuracy score is: 0.974\n",
      "Balanced accuracy score is: 0.974\n",
      "Precision score is: 0.974\n",
      "Recall score is: 0.974\n",
      "StratifiedKFold CV Balanced Accuracy: 0.948\\scriptsize(±0.08)\n",
      "StratifiedKFold CV Accuracy: 0.956\\scriptsize(±0.07)\n",
      "StratifiedKFold CV Precision: 0.958\\scriptsize(±0.06)\n",
      "StratifiedKFold CV Recall: 0.956\\scriptsize(±0.07)\n"
     ]
    }
   ],
   "source": [
    "#Random Forests\n",
    "from sklearn.ensemble import RandomForestClassifier\n",
    "implement(RandomForestClassifier())\n"
   ]
  },
  {
   "cell_type": "code",
   "execution_count": 155,
   "id": "816975ec",
   "metadata": {},
   "outputs": [
    {
     "name": "stdout",
     "output_type": "stream",
     "text": [
      "Confusion matrix: \n",
      "[[70  5]\n",
      " [ 6 33]]\n",
      "Classification report:               precision    recall  f1-score   support\n",
      "\n",
      "           B       0.92      0.93      0.93        75\n",
      "           M       0.87      0.85      0.86        39\n",
      "\n",
      "    accuracy                           0.90       114\n",
      "   macro avg       0.89      0.89      0.89       114\n",
      "weighted avg       0.90      0.90      0.90       114\n",
      "\n",
      "Accuracy score is: 0.904\n",
      "Balanced accuracy score is: 0.890\n",
      "Precision score is: 0.903\n",
      "Recall score is: 0.904\n",
      "StratifiedKFold CV Balanced Accuracy: 0.925\\scriptsize(±0.08)\n",
      "StratifiedKFold CV Accuracy: 0.930\\scriptsize(±0.06)\n",
      "StratifiedKFold CV Precision: 0.931\\scriptsize(±0.07)\n",
      "StratifiedKFold CV Recall: 0.930\\scriptsize(±0.06)\n"
     ]
    }
   ],
   "source": [
    "#Decesion Trees\n",
    "from sklearn.tree import DecisionTreeClassifier\n",
    "implement(DecisionTreeClassifier())"
   ]
  }
 ],
 "metadata": {
  "kernelspec": {
   "display_name": ".venv (3.12.10)",
   "language": "python",
   "name": "python3"
  },
  "language_info": {
   "codemirror_mode": {
    "name": "ipython",
    "version": 3
   },
   "file_extension": ".py",
   "mimetype": "text/x-python",
   "name": "python",
   "nbconvert_exporter": "python",
   "pygments_lexer": "ipython3",
   "version": "3.12.10"
  }
 },
 "nbformat": 4,
 "nbformat_minor": 5
}
