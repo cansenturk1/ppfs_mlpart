{
 "cells": [
  {
   "cell_type": "markdown",
   "id": "843d0307",
   "metadata": {},
   "source": [
    "imports"
   ]
  },
  {
   "cell_type": "code",
   "execution_count": 1,
   "id": "8c42f540",
   "metadata": {},
   "outputs": [],
   "source": [
    "import pandas as pd\n",
    "import numpy as np\n",
    "from sklearn.model_selection import train_test_split\n",
    "from sklearn.metrics import accuracy_score, classification_report, confusion_matrix, precision_score, recall_score\n",
    "from sklearn.model_selection import StratifiedKFold, cross_validate"
   ]
  },
  {
   "cell_type": "code",
   "execution_count": null,
   "id": "d1cbabdf",
   "metadata": {},
   "outputs": [],
   "source": [
    "\n",
    "def preprocess(file_path,split_value,target_column_index,has_header,delete_index_list):\n",
    "    \"\"\"this function is used for taking the dataset from .csv file making a test train split\n",
    "    and x, y split (has header is either True or False)\"\"\"\n",
    "\n",
    "    #reading the .csv\n",
    "    if has_header:\n",
    "        df = pd.read_csv(file_path, header=0, delimiter=\",\")  # First row as header\n",
    "        print(f\"Dataset shape: {df.shape}\")\n",
    "        print(f\"Column names: {list(df.columns)}\")\n",
    "    else:\n",
    "        df = pd.read_csv(file_path, header=None, delimiter=\",\")  # No header row\n",
    "        print(f\"Dataset shape: {df.shape}\")\n",
    "\n",
    "    df.drop(df.columns[delete_index_list], axis=1)\n",
    "    \n",
    "    #making target variable split\n",
    "    x_ds = df.drop(df.columns[target_column_index], axis=1)  # All except target\n",
    "    y_ds = df.iloc[:, target_column_index]  # Target column only\n",
    "\n",
    "    #making test train split\n",
    "    x_train, x_test, y_train, y_test = train_test_split(x_ds, y_ds, test_size=split_value, random_state=10, shuffle= True)\n",
    "    print(f'shape of x training: {x_train.shape}')\n",
    "    print(f'shape of x testing: {x_test.shape}')\n",
    "\n",
    "    return x_train, x_test, y_train, y_test, x_ds, y_ds"
   ]
  },
  {
   "cell_type": "code",
   "execution_count": 3,
   "id": "cb769c75",
   "metadata": {},
   "outputs": [],
   "source": [
    "def implement(model):\n",
    "    \"\"\"this function contains implementation (modeling and fitting) on the dataset with 1 \n",
    "    initiation and shows the results of the implementations.\n",
    "    Note: This function doesn't have compile so it is not appoprate to use this function for perceptron learning algs.\n",
    "    because it doesn't have training vs test accuracy comparison and doesn't have epochs and .argmax(axis=1) \"\"\"\n",
    "    #initiante ml\n",
    "    model.fit(x_train, y_train)\n",
    "    #model evaluation\n",
    "    y_pred = model.predict(x_test)\n",
    "\n",
    "    print(f'Classification report: {classification_report(y_test, y_pred)}')\n",
    "    print(f\"Accuracy score is: {accuracy_score(y_test,y_pred)}\")\n",
    "    print(f\"Percision score is: {precision_score(y_test,y_pred, average='weighted')}\")\n",
    "    print(f\"Recall score is: {recall_score(y_test,y_pred, average='weighted')}\")\n",
    "    print(f'Confusion matrix: \\n{confusion_matrix(y_test, y_pred)}')\n",
    "\n",
    "    # StratifiedKFold evaluations\n",
    "    skf = StratifiedKFold(n_splits=10, shuffle=True, random_state=10)\n",
    "    scoring = ['accuracy', 'precision_weighted', 'recall_weighted']\n",
    "    cv_results = cross_validate(model, x_ds, y_ds, cv=skf, scoring=scoring)\n",
    "    print(f\"StratifiedKFold CV Accuracy: {cv_results['test_accuracy'].mean():.4f} (+/- {cv_results['test_accuracy'].std() * 2:.4f})\")\n",
    "    print(f\"StratifiedKFold CV Precision: {cv_results['test_precision_weighted'].mean():.4f} (+/- {cv_results['test_precision_weighted'].std() * 2:.4f})\")\n",
    "    print(f\"StratifiedKFold CV Recall: {cv_results['test_recall_weighted'].mean():.4f} (+/- {cv_results['test_recall_weighted'].std() * 2:.4f})\")\n",
    "        "
   ]
  },
  {
   "cell_type": "markdown",
   "id": "e68b2693",
   "metadata": {},
   "source": [
    "Select the dataset!\n",
    "\n",
    "Runs the preprocess for diffrent datasets."
   ]
  },
  {
   "cell_type": "code",
   "execution_count": null,
   "id": "65c5cd02",
   "metadata": {},
   "outputs": [
    {
     "name": "stdout",
     "output_type": "stream",
     "text": [
      "Dataset shape: (13611, 17)\n",
      "Column names: ['Area', 'Perimeter', 'MajorAxisLength', 'MinorAxisLength', 'AspectRation', 'Eccentricity', 'ConvexArea', 'EquivDiameter', 'Extent', 'Solidity', 'roundness', 'Compactness', 'ShapeFactor1', 'ShapeFactor2', 'ShapeFactor3', 'ShapeFactor4', 'Class']\n",
      "shape of x training: (10888, 16)\n",
      "shape of x testing: (2723, 16)\n"
     ]
    }
   ],
   "source": [
    "x_train, x_test, y_train, y_test, x_ds, y_ds = preprocess(\"beans_kmeans.csv\", 0.2, 16, True, [])"
   ]
  },
  {
   "cell_type": "markdown",
   "id": "b5888940",
   "metadata": {},
   "source": [
    "x_train, x_test, y_train, y_test, x_ds, y_ds = preprocess(\"diabetes_kmeans.csv\", 0.2, 8, True)"
   ]
  },
  {
   "cell_type": "markdown",
   "id": "92cab410",
   "metadata": {},
   "source": [
    "x_train, x_test, y_train, y_test, x_ds, y_ds = preprocess(\"divorce.csv\", 0.2, 54, True)"
   ]
  },
  {
   "cell_type": "markdown",
   "id": "f054b17a",
   "metadata": {},
   "source": [
    "x_train, x_test, y_train, y_test, x_ds, y_ds = preprocess(\"parkinsons_kmeans.csv\", 0.2, 17, True)"
   ]
  },
  {
   "cell_type": "markdown",
   "id": "a1930ac9",
   "metadata": {},
   "source": [
    "x_train, x_test, y_train, y_test, x_ds, y_ds = preprocess(\"rice_binned_kmeans.csv\", 0.2, 7, True)"
   ]
  },
  {
   "cell_type": "markdown",
   "id": "f4d39b8d",
   "metadata": {},
   "source": [
    "x_train, x_test, y_train, y_test, x_ds, y_ds = preprocess(\"wdbc_binned_kmeans.csv\", 0.2, 1, True)"
   ]
  },
  {
   "cell_type": "markdown",
   "id": "2a658522",
   "metadata": {},
   "source": [
    "Run the implement function for diffrent models"
   ]
  },
  {
   "cell_type": "code",
   "execution_count": 5,
   "id": "27c4bcee",
   "metadata": {},
   "outputs": [
    {
     "name": "stdout",
     "output_type": "stream",
     "text": [
      "Classification report:               precision    recall  f1-score   support\n",
      "\n",
      "    BARBUNYA       0.93      0.91      0.92       233\n",
      "      BOMBAY       1.00      0.99      1.00       118\n",
      "        CALI       0.93      0.94      0.93       330\n",
      "    DERMASON       0.89      0.91      0.90       706\n",
      "       HOROZ       0.97      0.93      0.95       396\n",
      "       SEKER       0.96      0.93      0.94       411\n",
      "        SIRA       0.84      0.85      0.85       529\n",
      "\n",
      "    accuracy                           0.91      2723\n",
      "   macro avg       0.93      0.93      0.93      2723\n",
      "weighted avg       0.92      0.91      0.91      2723\n",
      "\n",
      "Accuracy score is: 0.9144326110907087\n",
      "Percision score is: 0.9151932860775547\n",
      "Recall score is: 0.9144326110907087\n",
      "Confusion matrix: \n",
      "[[213   0  14   0   1   1   4]\n",
      " [  0 117   1   0   0   0   0]\n",
      " [ 11   0 310   0   6   1   2]\n",
      " [  0   0   0 645   0   8  53]\n",
      " [  0   0   7   5 370   0  14]\n",
      " [  4   0   0  12   0 384  11]\n",
      " [  1   0   2  62   5   8 451]]\n",
      "StratifiedKFold CV Accuracy: 0.9118 (+/- 0.0167)\n",
      "StratifiedKFold CV Precision: 0.9131 (+/- 0.0170)\n",
      "StratifiedKFold CV Recall: 0.9118 (+/- 0.0167)\n"
     ]
    }
   ],
   "source": [
    "#KNN\n",
    "from sklearn.neighbors import KNeighborsClassifier\n",
    "implement(KNeighborsClassifier())"
   ]
  },
  {
   "cell_type": "code",
   "execution_count": 6,
   "id": "fdd68222",
   "metadata": {},
   "outputs": [
    {
     "name": "stderr",
     "output_type": "stream",
     "text": [
      "/Library/Frameworks/Python.framework/Versions/3.12/lib/python3.12/site-packages/sklearn/ensemble/_weight_boosting.py:527: FutureWarning: The SAMME.R algorithm (the default) is deprecated and will be removed in 1.6. Use the SAMME algorithm to circumvent this warning.\n",
      "  warnings.warn(\n",
      "/Library/Frameworks/Python.framework/Versions/3.12/lib/python3.12/site-packages/sklearn/metrics/_classification.py:1531: UndefinedMetricWarning: Precision is ill-defined and being set to 0.0 in labels with no predicted samples. Use `zero_division` parameter to control this behavior.\n",
      "  _warn_prf(average, modifier, f\"{metric.capitalize()} is\", len(result))\n",
      "/Library/Frameworks/Python.framework/Versions/3.12/lib/python3.12/site-packages/sklearn/metrics/_classification.py:1531: UndefinedMetricWarning: Precision is ill-defined and being set to 0.0 in labels with no predicted samples. Use `zero_division` parameter to control this behavior.\n",
      "  _warn_prf(average, modifier, f\"{metric.capitalize()} is\", len(result))\n",
      "/Library/Frameworks/Python.framework/Versions/3.12/lib/python3.12/site-packages/sklearn/metrics/_classification.py:1531: UndefinedMetricWarning: Precision is ill-defined and being set to 0.0 in labels with no predicted samples. Use `zero_division` parameter to control this behavior.\n",
      "  _warn_prf(average, modifier, f\"{metric.capitalize()} is\", len(result))\n",
      "/Library/Frameworks/Python.framework/Versions/3.12/lib/python3.12/site-packages/sklearn/metrics/_classification.py:1531: UndefinedMetricWarning: Precision is ill-defined and being set to 0.0 in labels with no predicted samples. Use `zero_division` parameter to control this behavior.\n",
      "  _warn_prf(average, modifier, f\"{metric.capitalize()} is\", len(result))\n",
      "/Library/Frameworks/Python.framework/Versions/3.12/lib/python3.12/site-packages/sklearn/ensemble/_weight_boosting.py:527: FutureWarning: The SAMME.R algorithm (the default) is deprecated and will be removed in 1.6. Use the SAMME algorithm to circumvent this warning.\n",
      "  warnings.warn(\n"
     ]
    },
    {
     "name": "stdout",
     "output_type": "stream",
     "text": [
      "Classification report:               precision    recall  f1-score   support\n",
      "\n",
      "    BARBUNYA       0.00      0.00      0.00       233\n",
      "      BOMBAY       1.00      1.00      1.00       118\n",
      "        CALI       0.00      0.00      0.00       330\n",
      "    DERMASON       0.00      0.00      0.00       706\n",
      "       HOROZ       0.30      0.90      0.45       396\n",
      "       SEKER       0.76      0.18      0.29       411\n",
      "        SIRA       0.18      0.44      0.26       529\n",
      "\n",
      "    accuracy                           0.29      2723\n",
      "   macro avg       0.32      0.36      0.28      2723\n",
      "weighted avg       0.24      0.29      0.20      2723\n",
      "\n",
      "Accuracy score is: 0.2879177377892031\n",
      "Percision score is: 0.2354834564375573\n",
      "Recall score is: 0.2879177377892031\n",
      "Confusion matrix: \n",
      "[[  0   0   0   0 230   1   2]\n",
      " [  0 118   0   0   0   0   0]\n",
      " [  0   0   0   0 329   1   0]\n",
      " [  0   0   0   0   0   0 706]\n",
      " [  0   0   0   0 357   0  39]\n",
      " [  0   0   0   0  14  74 323]\n",
      " [  0   0   0   0 272  22 235]]\n"
     ]
    },
    {
     "name": "stderr",
     "output_type": "stream",
     "text": [
      "/Library/Frameworks/Python.framework/Versions/3.12/lib/python3.12/site-packages/sklearn/metrics/_classification.py:1531: UndefinedMetricWarning: Precision is ill-defined and being set to 0.0 in labels with no predicted samples. Use `zero_division` parameter to control this behavior.\n",
      "  _warn_prf(average, modifier, f\"{metric.capitalize()} is\", len(result))\n",
      "/Library/Frameworks/Python.framework/Versions/3.12/lib/python3.12/site-packages/sklearn/ensemble/_weight_boosting.py:527: FutureWarning: The SAMME.R algorithm (the default) is deprecated and will be removed in 1.6. Use the SAMME algorithm to circumvent this warning.\n",
      "  warnings.warn(\n",
      "/Library/Frameworks/Python.framework/Versions/3.12/lib/python3.12/site-packages/sklearn/metrics/_classification.py:1531: UndefinedMetricWarning: Precision is ill-defined and being set to 0.0 in labels with no predicted samples. Use `zero_division` parameter to control this behavior.\n",
      "  _warn_prf(average, modifier, f\"{metric.capitalize()} is\", len(result))\n",
      "/Library/Frameworks/Python.framework/Versions/3.12/lib/python3.12/site-packages/sklearn/ensemble/_weight_boosting.py:527: FutureWarning: The SAMME.R algorithm (the default) is deprecated and will be removed in 1.6. Use the SAMME algorithm to circumvent this warning.\n",
      "  warnings.warn(\n",
      "/Library/Frameworks/Python.framework/Versions/3.12/lib/python3.12/site-packages/sklearn/metrics/_classification.py:1531: UndefinedMetricWarning: Precision is ill-defined and being set to 0.0 in labels with no predicted samples. Use `zero_division` parameter to control this behavior.\n",
      "  _warn_prf(average, modifier, f\"{metric.capitalize()} is\", len(result))\n",
      "/Library/Frameworks/Python.framework/Versions/3.12/lib/python3.12/site-packages/sklearn/ensemble/_weight_boosting.py:527: FutureWarning: The SAMME.R algorithm (the default) is deprecated and will be removed in 1.6. Use the SAMME algorithm to circumvent this warning.\n",
      "  warnings.warn(\n",
      "/Library/Frameworks/Python.framework/Versions/3.12/lib/python3.12/site-packages/sklearn/metrics/_classification.py:1531: UndefinedMetricWarning: Precision is ill-defined and being set to 0.0 in labels with no predicted samples. Use `zero_division` parameter to control this behavior.\n",
      "  _warn_prf(average, modifier, f\"{metric.capitalize()} is\", len(result))\n",
      "/Library/Frameworks/Python.framework/Versions/3.12/lib/python3.12/site-packages/sklearn/ensemble/_weight_boosting.py:527: FutureWarning: The SAMME.R algorithm (the default) is deprecated and will be removed in 1.6. Use the SAMME algorithm to circumvent this warning.\n",
      "  warnings.warn(\n",
      "/Library/Frameworks/Python.framework/Versions/3.12/lib/python3.12/site-packages/sklearn/metrics/_classification.py:1531: UndefinedMetricWarning: Precision is ill-defined and being set to 0.0 in labels with no predicted samples. Use `zero_division` parameter to control this behavior.\n",
      "  _warn_prf(average, modifier, f\"{metric.capitalize()} is\", len(result))\n",
      "/Library/Frameworks/Python.framework/Versions/3.12/lib/python3.12/site-packages/sklearn/ensemble/_weight_boosting.py:527: FutureWarning: The SAMME.R algorithm (the default) is deprecated and will be removed in 1.6. Use the SAMME algorithm to circumvent this warning.\n",
      "  warnings.warn(\n",
      "/Library/Frameworks/Python.framework/Versions/3.12/lib/python3.12/site-packages/sklearn/metrics/_classification.py:1531: UndefinedMetricWarning: Precision is ill-defined and being set to 0.0 in labels with no predicted samples. Use `zero_division` parameter to control this behavior.\n",
      "  _warn_prf(average, modifier, f\"{metric.capitalize()} is\", len(result))\n",
      "/Library/Frameworks/Python.framework/Versions/3.12/lib/python3.12/site-packages/sklearn/ensemble/_weight_boosting.py:527: FutureWarning: The SAMME.R algorithm (the default) is deprecated and will be removed in 1.6. Use the SAMME algorithm to circumvent this warning.\n",
      "  warnings.warn(\n",
      "/Library/Frameworks/Python.framework/Versions/3.12/lib/python3.12/site-packages/sklearn/metrics/_classification.py:1531: UndefinedMetricWarning: Precision is ill-defined and being set to 0.0 in labels with no predicted samples. Use `zero_division` parameter to control this behavior.\n",
      "  _warn_prf(average, modifier, f\"{metric.capitalize()} is\", len(result))\n",
      "/Library/Frameworks/Python.framework/Versions/3.12/lib/python3.12/site-packages/sklearn/ensemble/_weight_boosting.py:527: FutureWarning: The SAMME.R algorithm (the default) is deprecated and will be removed in 1.6. Use the SAMME algorithm to circumvent this warning.\n",
      "  warnings.warn(\n",
      "/Library/Frameworks/Python.framework/Versions/3.12/lib/python3.12/site-packages/sklearn/metrics/_classification.py:1531: UndefinedMetricWarning: Precision is ill-defined and being set to 0.0 in labels with no predicted samples. Use `zero_division` parameter to control this behavior.\n",
      "  _warn_prf(average, modifier, f\"{metric.capitalize()} is\", len(result))\n",
      "/Library/Frameworks/Python.framework/Versions/3.12/lib/python3.12/site-packages/sklearn/ensemble/_weight_boosting.py:527: FutureWarning: The SAMME.R algorithm (the default) is deprecated and will be removed in 1.6. Use the SAMME algorithm to circumvent this warning.\n",
      "  warnings.warn(\n",
      "/Library/Frameworks/Python.framework/Versions/3.12/lib/python3.12/site-packages/sklearn/metrics/_classification.py:1531: UndefinedMetricWarning: Precision is ill-defined and being set to 0.0 in labels with no predicted samples. Use `zero_division` parameter to control this behavior.\n",
      "  _warn_prf(average, modifier, f\"{metric.capitalize()} is\", len(result))\n",
      "/Library/Frameworks/Python.framework/Versions/3.12/lib/python3.12/site-packages/sklearn/ensemble/_weight_boosting.py:527: FutureWarning: The SAMME.R algorithm (the default) is deprecated and will be removed in 1.6. Use the SAMME algorithm to circumvent this warning.\n",
      "  warnings.warn(\n"
     ]
    },
    {
     "name": "stdout",
     "output_type": "stream",
     "text": [
      "StratifiedKFold CV Accuracy: 0.3419 (+/- 0.2337)\n",
      "StratifiedKFold CV Precision: 0.2959 (+/- 0.2219)\n",
      "StratifiedKFold CV Recall: 0.3419 (+/- 0.2337)\n"
     ]
    },
    {
     "name": "stderr",
     "output_type": "stream",
     "text": [
      "/Library/Frameworks/Python.framework/Versions/3.12/lib/python3.12/site-packages/sklearn/metrics/_classification.py:1531: UndefinedMetricWarning: Precision is ill-defined and being set to 0.0 in labels with no predicted samples. Use `zero_division` parameter to control this behavior.\n",
      "  _warn_prf(average, modifier, f\"{metric.capitalize()} is\", len(result))\n"
     ]
    }
   ],
   "source": [
    "#Ada Boost\n",
    "from sklearn.ensemble import AdaBoostClassifier \n",
    "implement(AdaBoostClassifier(n_estimators=100, random_state = 10))"
   ]
  },
  {
   "cell_type": "code",
   "execution_count": null,
   "id": "fba3aeb4",
   "metadata": {},
   "outputs": [],
   "source": [
    "#SVM\n",
    "from sklearn.svm import SVC \n",
    "implement(SVC(max_iter = -1, random_state=10))"
   ]
  },
  {
   "cell_type": "code",
   "execution_count": null,
   "id": "1c80a70a",
   "metadata": {},
   "outputs": [],
   "source": [
    "#Gaussian Naive Bayes\n",
    "from sklearn.naive_bayes import GaussianNB \n",
    "implement(GaussianNB())"
   ]
  },
  {
   "cell_type": "code",
   "execution_count": null,
   "id": "c072b9cb",
   "metadata": {},
   "outputs": [],
   "source": [
    "#Random Forests\n",
    "from sklearn.ensemble import RandomForestClassifier\n",
    "implement(RandomForestClassifier())\n"
   ]
  },
  {
   "cell_type": "code",
   "execution_count": null,
   "id": "816975ec",
   "metadata": {},
   "outputs": [],
   "source": [
    "#Decesion Trees\n",
    "from sklearn.tree import DecisionTreeClassifier\n",
    "implement(DecisionTreeClassifier())"
   ]
  }
 ],
 "metadata": {
  "kernelspec": {
   "display_name": "Python 3",
   "language": "python",
   "name": "python3"
  },
  "language_info": {
   "codemirror_mode": {
    "name": "ipython",
    "version": 3
   },
   "file_extension": ".py",
   "mimetype": "text/x-python",
   "name": "python",
   "nbconvert_exporter": "python",
   "pygments_lexer": "ipython3",
   "version": "3.12.5"
  }
 },
 "nbformat": 4,
 "nbformat_minor": 5
}
