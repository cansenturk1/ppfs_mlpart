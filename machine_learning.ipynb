{
 "cells": [
  {
   "cell_type": "markdown",
   "id": "843d0307",
   "metadata": {},
   "source": [
    "imports"
   ]
  },
  {
   "cell_type": "code",
   "execution_count": 93,
   "id": "8c42f540",
   "metadata": {},
   "outputs": [],
   "source": [
    "import pandas as pd\n",
    "import numpy as np\n",
    "from sklearn.model_selection import train_test_split\n",
    "from sklearn.metrics import accuracy_score, classification_report, confusion_matrix, precision_score, recall_score\n",
    "from sklearn.model_selection import StratifiedKFold, cross_validate"
   ]
  },
  {
   "cell_type": "code",
   "execution_count": 94,
   "id": "d1cbabdf",
   "metadata": {},
   "outputs": [],
   "source": [
    "\n",
    "def preprocess(file_path,split_value,target_column_index,has_header,delete_list,extraction_list):\n",
    "    \"\"\"this function is used for taking the dataset from .csv file making a test train split\n",
    "    and x, y split (has header is either True or False)\"\"\"\n",
    "\n",
    "    #reading the .csv\n",
    "    if has_header:\n",
    "        df = pd.read_csv(file_path, header=0, delimiter=\",\")  # First row as header\n",
    "        print(f\"Dataset shape: {df.shape}\")\n",
    "        print(f\"Column names: {list(df.columns)}\")\n",
    "    else:\n",
    "        df = pd.read_csv(file_path, header=None, delimiter=\",\")  # No header row\n",
    "        print(f\"Dataset shape: {df.shape}\")\n",
    "\n",
    "    \n",
    "    #making target variable split\n",
    "    x_ds = df.drop(df.columns[target_column_index], axis=1)  # All except target\n",
    "    y_ds = df.iloc[:, target_column_index]  # Target column only\n",
    "\n",
    "    x_ds = x_ds.drop(columns = delete_list + extraction_list)\n",
    "    #making test train split\n",
    "    x_train, x_test, y_train, y_test = train_test_split(x_ds, y_ds, test_size=split_value, random_state=10, shuffle= True)\n",
    "    print(f'shape of x training: {x_train.shape}')\n",
    "    print(f'shape of x testing: {x_test.shape}')\n",
    "\n",
    "    return x_train, x_test, y_train, y_test, x_ds, y_ds"
   ]
  },
  {
   "cell_type": "code",
   "execution_count": 95,
   "id": "cb769c75",
   "metadata": {},
   "outputs": [],
   "source": [
    "def implement(model):\n",
    "    \"\"\"this function contains implementation (modeling and fitting) on the dataset with 1 \n",
    "    initiation and shows the results of the implementations.\n",
    "    Note: This function doesn't have compile so it is not appoprate to use this function for perceptron learning algs.\n",
    "    because it doesn't have training vs test accuracy comparison and doesn't have epochs and .argmax(axis=1) \"\"\"\n",
    "    #initiante ml\n",
    "    model.fit(x_train, y_train)\n",
    "    #model evaluation\n",
    "    y_pred = model.predict(x_test)\n",
    "\n",
    "    print(f'Confusion matrix: \\n{confusion_matrix(y_test, y_pred)}')\n",
    "    print(f'Classification report: {classification_report(y_test, y_pred)}')\n",
    "    print(f\"Accuracy score is: {accuracy_score(y_test,y_pred)}\")\n",
    "    print(f\"Precision score is: {precision_score(y_test,y_pred, average='weighted')}\")\n",
    "    print(f\"Recall score is: {recall_score(y_test,y_pred, average='weighted')}\")\n",
    "    \n",
    "    # StratifiedKFold evaluations\n",
    "    skf = StratifiedKFold(n_splits=10, shuffle=True, random_state=10)\n",
    "    scoring = ['accuracy', 'precision_weighted', 'recall_weighted']\n",
    "    cv_results = cross_validate(model, x_ds, y_ds, cv=skf, scoring=scoring)\n",
    "    print(f\"StratifiedKFold CV Accuracy: {cv_results['test_accuracy'].mean():.4f} (+/- {cv_results['test_accuracy'].std() * 2:.4f})\")\n",
    "    print(f\"StratifiedKFold CV Precision: {cv_results['test_precision_weighted'].mean():.4f} (+/- {cv_results['test_precision_weighted'].std() * 2:.4f})\")\n",
    "    print(f\"StratifiedKFold CV Recall: {cv_results['test_recall_weighted'].mean():.4f} (+/- {cv_results['test_recall_weighted'].std() * 2:.4f})\")\n",
    "        "
   ]
  },
  {
   "cell_type": "markdown",
   "id": "e68b2693",
   "metadata": {},
   "source": [
    "Select the dataset!\n",
    "\n",
    "Runs the preprocess for diffrent datasets."
   ]
  },
  {
   "cell_type": "markdown",
   "id": "65c5cd02",
   "metadata": {},
   "source": [
    "x_train, x_test, y_train, y_test, x_ds, y_ds = preprocess(\"beans_kmeans.csv\", 0.2, 16, True, [], [])"
   ]
  },
  {
   "cell_type": "markdown",
   "id": "184a7454",
   "metadata": {},
   "source": [
    "x_train, x_test, y_train, y_test, x_ds, y_ds = preprocess(\"beans_kmeans.csv\", 0.2, 16, True, [],[\"ShapeFactor2\",\"Compactness\",\"ShapeFactor3\",\"roundness\",\"MajorAxisLength\",\"Eccentricity\",\"AspectRation\"] )"
   ]
  },
  {
   "cell_type": "markdown",
   "id": "b5888940",
   "metadata": {},
   "source": [
    "x_train, x_test, y_train, y_test, x_ds, y_ds = preprocess(\"diabetes_kmeans.csv\", 0.2, 8, True, [], [])"
   ]
  },
  {
   "cell_type": "markdown",
   "id": "97c5a670",
   "metadata": {},
   "source": [
    "x_train, x_test, y_train, y_test, x_ds, y_ds = preprocess(\"diabetes_kmeans.csv\", 0.2, 8, True, [], [])"
   ]
  },
  {
   "cell_type": "markdown",
   "id": "92cab410",
   "metadata": {},
   "source": [
    "x_train, x_test, y_train, y_test, x_ds, y_ds = preprocess(\"divorce.csv\", 0.2, 54, True, [], [])"
   ]
  },
  {
   "cell_type": "markdown",
   "id": "ed001548",
   "metadata": {},
   "source": [
    "x_train, x_test, y_train, y_test, x_ds, y_ds = preprocess(\"divorce.csv\", 0.2, 54, True, [], ['Atr32','Atr33','Atr34','Atr35','Atr36','Atr52','Atr54'])"
   ]
  },
  {
   "cell_type": "markdown",
   "id": "f054b17a",
   "metadata": {},
   "source": [
    "x_train, x_test, y_train, y_test, x_ds, y_ds = preprocess(\"parkinsons_kmeans.csv\", 0.2, 17, True, ['name'], [])"
   ]
  },
  {
   "cell_type": "markdown",
   "id": "0209cca2",
   "metadata": {},
   "source": [
    "x_train, x_test, y_train, y_test, x_ds, y_ds = preprocess(\"parkinsons_kmeans.csv\", 0.2, 17, True, ['name'], ['spread1','HNR','PPE','MDVP:APQ'])"
   ]
  },
  {
   "cell_type": "markdown",
   "id": "a1930ac9",
   "metadata": {},
   "source": [
    "x_train, x_test, y_train, y_test, x_ds, y_ds = preprocess(\"rice_binned_kmeans.csv\", 0.2, 7, True, [], ['Eccentricity', 'Major_Axis_Length', 'Perimeter'])"
   ]
  },
  {
   "cell_type": "markdown",
   "id": "fd2af581",
   "metadata": {},
   "source": [
    "x_train, x_test, y_train, y_test, x_ds, y_ds = preprocess(\"rice_binned_kmeans.csv\", 0.2, 7, True, [], [])"
   ]
  },
  {
   "cell_type": "markdown",
   "id": "f4d39b8d",
   "metadata": {},
   "source": [
    "x_train, x_test, y_train, y_test, x_ds, y_ds = preprocess(\"wdbc_binned_kmeans.csv\", 0.2, 1, True, ['ID'], [])"
   ]
  },
  {
   "cell_type": "markdown",
   "id": "ced61ffe",
   "metadata": {},
   "source": [
    "x_train, x_test, y_train, y_test, x_ds, y_ds = preprocess(\"wdbc_binned_kmeans.csv\", 0.2, 1, True, ['ID'], [])"
   ]
  },
  {
   "cell_type": "markdown",
   "id": "2a658522",
   "metadata": {},
   "source": [
    "Run the implement function for diffrent models"
   ]
  },
  {
   "cell_type": "code",
   "execution_count": 97,
   "id": "27c4bcee",
   "metadata": {},
   "outputs": [
    {
     "name": "stdout",
     "output_type": "stream",
     "text": [
      "Confusion matrix: \n",
      "[[74  1]\n",
      " [ 1 38]]\n",
      "Classification report:               precision    recall  f1-score   support\n",
      "\n",
      "           B       0.99      0.99      0.99        75\n",
      "           M       0.97      0.97      0.97        39\n",
      "\n",
      "    accuracy                           0.98       114\n",
      "   macro avg       0.98      0.98      0.98       114\n",
      "weighted avg       0.98      0.98      0.98       114\n",
      "\n",
      "Accuracy score is: 0.9824561403508771\n",
      "Precision score is: 0.9824561403508771\n",
      "Recall score is: 0.9824561403508771\n",
      "StratifiedKFold CV Accuracy: 0.9701 (+/- 0.0417)\n",
      "StratifiedKFold CV Precision: 0.9707 (+/- 0.0413)\n",
      "StratifiedKFold CV Recall: 0.9701 (+/- 0.0417)\n"
     ]
    }
   ],
   "source": [
    "#KNN\n",
    "from sklearn.neighbors import KNeighborsClassifier\n",
    "implement(KNeighborsClassifier())"
   ]
  },
  {
   "cell_type": "code",
   "execution_count": 98,
   "id": "fdd68222",
   "metadata": {},
   "outputs": [
    {
     "name": "stdout",
     "output_type": "stream",
     "text": [
      "Confusion matrix: \n",
      "[[73  2]\n",
      " [ 0 39]]\n",
      "Classification report:               precision    recall  f1-score   support\n",
      "\n",
      "           B       1.00      0.97      0.99        75\n",
      "           M       0.95      1.00      0.97        39\n",
      "\n",
      "    accuracy                           0.98       114\n",
      "   macro avg       0.98      0.99      0.98       114\n",
      "weighted avg       0.98      0.98      0.98       114\n",
      "\n",
      "Accuracy score is: 0.9824561403508771\n",
      "Precision score is: 0.9833119383825417\n",
      "Recall score is: 0.9824561403508771\n",
      "StratifiedKFold CV Accuracy: 0.9737 (+/- 0.0423)\n",
      "StratifiedKFold CV Precision: 0.9746 (+/- 0.0410)\n",
      "StratifiedKFold CV Recall: 0.9737 (+/- 0.0423)\n"
     ]
    }
   ],
   "source": [
    "#Ada Boost\n",
    "from sklearn.ensemble import AdaBoostClassifier \n",
    "implement(AdaBoostClassifier(n_estimators=100, random_state = 10))"
   ]
  },
  {
   "cell_type": "code",
   "execution_count": 99,
   "id": "fba3aeb4",
   "metadata": {},
   "outputs": [
    {
     "name": "stdout",
     "output_type": "stream",
     "text": [
      "Confusion matrix: \n",
      "[[74  1]\n",
      " [ 0 39]]\n",
      "Classification report:               precision    recall  f1-score   support\n",
      "\n",
      "           B       1.00      0.99      0.99        75\n",
      "           M       0.97      1.00      0.99        39\n",
      "\n",
      "    accuracy                           0.99       114\n",
      "   macro avg       0.99      0.99      0.99       114\n",
      "weighted avg       0.99      0.99      0.99       114\n",
      "\n",
      "Accuracy score is: 0.9912280701754386\n",
      "Precision score is: 0.9914473684210526\n",
      "Recall score is: 0.9912280701754386\n",
      "StratifiedKFold CV Accuracy: 0.9771 (+/- 0.0387)\n",
      "StratifiedKFold CV Precision: 0.9779 (+/- 0.0373)\n",
      "StratifiedKFold CV Recall: 0.9771 (+/- 0.0387)\n"
     ]
    }
   ],
   "source": [
    "#SVM\n",
    "from sklearn.svm import SVC \n",
    "implement(SVC(max_iter = -1, random_state=10))"
   ]
  },
  {
   "cell_type": "code",
   "execution_count": 100,
   "id": "1c80a70a",
   "metadata": {},
   "outputs": [
    {
     "name": "stdout",
     "output_type": "stream",
     "text": [
      "Confusion matrix: \n",
      "[[71  4]\n",
      " [ 1 38]]\n",
      "Classification report:               precision    recall  f1-score   support\n",
      "\n",
      "           B       0.99      0.95      0.97        75\n",
      "           M       0.90      0.97      0.94        39\n",
      "\n",
      "    accuracy                           0.96       114\n",
      "   macro avg       0.95      0.96      0.95       114\n",
      "weighted avg       0.96      0.96      0.96       114\n",
      "\n",
      "Accuracy score is: 0.956140350877193\n",
      "Precision score is: 0.95828111946533\n",
      "Recall score is: 0.956140350877193\n",
      "StratifiedKFold CV Accuracy: 0.9385 (+/- 0.0705)\n",
      "StratifiedKFold CV Precision: 0.9392 (+/- 0.0705)\n",
      "StratifiedKFold CV Recall: 0.9385 (+/- 0.0705)\n"
     ]
    }
   ],
   "source": [
    "#Gaussian Naive Bayes\n",
    "from sklearn.naive_bayes import GaussianNB \n",
    "implement(GaussianNB())"
   ]
  },
  {
   "cell_type": "code",
   "execution_count": 101,
   "id": "c072b9cb",
   "metadata": {},
   "outputs": [
    {
     "name": "stdout",
     "output_type": "stream",
     "text": [
      "Confusion matrix: \n",
      "[[73  2]\n",
      " [ 1 38]]\n",
      "Classification report:               precision    recall  f1-score   support\n",
      "\n",
      "           B       0.99      0.97      0.98        75\n",
      "           M       0.95      0.97      0.96        39\n",
      "\n",
      "    accuracy                           0.97       114\n",
      "   macro avg       0.97      0.97      0.97       114\n",
      "weighted avg       0.97      0.97      0.97       114\n",
      "\n",
      "Accuracy score is: 0.9736842105263158\n",
      "Precision score is: 0.97400426742532\n",
      "Recall score is: 0.9736842105263158\n",
      "StratifiedKFold CV Accuracy: 0.9578 (+/- 0.0501)\n",
      "StratifiedKFold CV Precision: 0.9588 (+/- 0.0490)\n",
      "StratifiedKFold CV Recall: 0.9578 (+/- 0.0501)\n"
     ]
    }
   ],
   "source": [
    "#Random Forests\n",
    "from sklearn.ensemble import RandomForestClassifier\n",
    "implement(RandomForestClassifier())\n"
   ]
  },
  {
   "cell_type": "code",
   "execution_count": 102,
   "id": "816975ec",
   "metadata": {},
   "outputs": [
    {
     "name": "stdout",
     "output_type": "stream",
     "text": [
      "Confusion matrix: \n",
      "[[72  3]\n",
      " [ 4 35]]\n",
      "Classification report:               precision    recall  f1-score   support\n",
      "\n",
      "           B       0.95      0.96      0.95        75\n",
      "           M       0.92      0.90      0.91        39\n",
      "\n",
      "    accuracy                           0.94       114\n",
      "   macro avg       0.93      0.93      0.93       114\n",
      "weighted avg       0.94      0.94      0.94       114\n",
      "\n",
      "Accuracy score is: 0.9385964912280702\n",
      "Precision score is: 0.9383656509695291\n",
      "Recall score is: 0.9385964912280702\n",
      "StratifiedKFold CV Accuracy: 0.9333 (+/- 0.0582)\n",
      "StratifiedKFold CV Precision: 0.9346 (+/- 0.0596)\n",
      "StratifiedKFold CV Recall: 0.9333 (+/- 0.0582)\n"
     ]
    }
   ],
   "source": [
    "#Decesion Trees\n",
    "from sklearn.tree import DecisionTreeClassifier\n",
    "implement(DecisionTreeClassifier())"
   ]
  }
 ],
 "metadata": {
  "kernelspec": {
   "display_name": ".venv",
   "language": "python",
   "name": "python3"
  },
  "language_info": {
   "codemirror_mode": {
    "name": "ipython",
    "version": 3
   },
   "file_extension": ".py",
   "mimetype": "text/x-python",
   "name": "python",
   "nbconvert_exporter": "python",
   "pygments_lexer": "ipython3",
   "version": "3.12.5"
  }
 },
 "nbformat": 4,
 "nbformat_minor": 5
}
