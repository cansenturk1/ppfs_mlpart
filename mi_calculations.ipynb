{
 "cells": [
  {
   "cell_type": "markdown",
   "id": "7c7a3255",
   "metadata": {},
   "source": [
    "selecting and reading the dataset"
   ]
  },
  {
   "cell_type": "markdown",
   "id": "8900ca1b",
   "metadata": {},
   "source": [
    "mi for all features (graph)"
   ]
  },
  {
   "cell_type": "markdown",
   "id": "29d66535",
   "metadata": {},
   "source": [
    "vertical split"
   ]
  },
  {
   "cell_type": "markdown",
   "id": "b3912733",
   "metadata": {},
   "source": [
    "mi on the set with label to find tthe target (lowest mi)"
   ]
  },
  {
   "cell_type": "markdown",
   "id": "7e583210",
   "metadata": {},
   "source": [
    "spearman with target to varibales that are outside the set (graph to see elbow)"
   ]
  }
 ],
 "metadata": {
  "language_info": {
   "name": "python"
  }
 },
 "nbformat": 4,
 "nbformat_minor": 5
}
