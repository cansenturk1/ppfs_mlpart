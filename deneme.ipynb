{
 "cells": [
  {
   "cell_type": "code",
   "execution_count": 1,
   "id": "1db7e050",
   "metadata": {},
   "outputs": [],
   "source": [
    "import numpy as np\n",
    "import pandas as pd\n",
    "from sklearn.feature_selection import mutual_info_classif\n",
    "import gmpy2"
   ]
  },
  {
   "cell_type": "code",
   "execution_count": 2,
   "id": "b30557bc",
   "metadata": {},
   "outputs": [],
   "source": [
    "DATASETS = {\n",
    "    'beans': ('beans_kmeans.csv', 'Class', []),\n",
    "}"
   ]
  },
  {
   "cell_type": "code",
   "execution_count": 4,
   "id": "14c9860d",
   "metadata": {},
   "outputs": [],
   "source": [
    "def load_csv_data(filename, target_col, drop_cols=None):\n",
    "    df = pd.read_csv(filename, delimiter=',')\n",
    "    if drop_cols:\n",
    "        df = df.drop(columns=drop_cols, errors='ignore')\n",
    "    df = df.apply(lambda s: s.astype(np.int64) if s.name != target_col else s)\n",
    "    return np.array_split(df, 3, axis=1)\n",
    "\n",
    "def load_dataset(name):\n",
    "    if name not in DATASETS:\n",
    "        raise ValueError(f\"Unknown dataset: {name}\")\n",
    "    file, target, drops = DATASETS[name]\n",
    "    return load_csv_data(file, target, drops), target"
   ]
  },
  {
   "cell_type": "code",
   "execution_count": null,
   "id": "e14471f9",
   "metadata": {},
   "outputs": [],
   "source": [
    "def get_min_mutual_info_feature(data_parts, target_col):\n",
    "    plain_mi_score = compute_mutual_information(data_parts, target_col)\n",
    "    print(\"Plain MI Scores:\", plain_mi_score)\n",
    "    for part in data_parts:\n",
    "        if target_col in part.columns:\n",
    "            feature_cols = [c for c in part.columns if c != target_col]\n",
    "            if not feature_cols:\n",
    "                raise ValueError(\"No feature columns in target-containing part.\")\n",
    "            min_feature = min(feature_cols, key=lambda c: plain_mi_score.get(c, float('inf')))\n",
    "            return min_feature\n",
    "    raise ValueError(f\"Target column '{target_col}' not found.\")"
   ]
  },
  {
   "cell_type": "code",
   "execution_count": null,
   "id": "bb837313",
   "metadata": {},
   "outputs": [],
   "source": [
    "def compute_ranks(data_parts, target_col):\n",
    "    ranks = []\n",
    "    for part in data_parts:\n",
    "        cols = [c for c in part.columns if c != target_col]\n",
    "        if cols:\n",
    "            ranks.append(part[cols].rank().astype(int))\n",
    "        else:\n",
    "            ranks.append(pd.DataFrame(index=part.index))\n",
    "    return ranks\n",
    "\n",
    "\n",
    "    "
   ]
  },
  {
   "cell_type": "code",
   "execution_count": null,
   "id": "b96efed4",
   "metadata": {},
   "outputs": [],
   "source": [
    "def compute_spearman_correlation(ranked_parts, target_col):\n",
    "    # Find which part (if any) has target ranks; fallback: last part\n",
    "    target_rank = None\n",
    "    for rp in ranked_parts:\n",
    "        if target_col in rp.columns:\n",
    "            target_rank = rp[target_col].astype(int)\n",
    "            break\n",
    "    # If target ranks are not stored separately, cannot proceed\n",
    "    if target_rank is None:\n",
    "        # Assume target in last original part (not ranked); cannot compute -> return empty\n",
    "        return {}\n",
    "    n = len(target_rank)\n",
    "    denom = n * (n**2 - 1)\n",
    "    res = {}\n",
    "    for rp in ranked_parts:\n",
    "        for col in rp.columns:\n",
    "            if col == target_col:\n",
    "                continue\n",
    "            fr = rp[col].astype(int)\n",
    "            d2 = (fr - target_rank).apply(lambda d: d * d).sum()\n",
    "            res[col] = 1 - (6 * d2) / denom\n",
    "    return res"
   ]
  },
  {
   "cell_type": "code",
   "execution_count": null,
   "id": "15681de5",
   "metadata": {},
   "outputs": [],
   "source": [
    "\n",
    "def main(dataset_name='beans'):\n",
    "    data_parts, target_col = load_dataset(dataset_name)\n",
    "    target_feature = get_min_mutual_info_feature(data_parts, target_col)\n",
    "    ranked_parts = compute_ranks(data_parts, target_col)\n",
    "    squared_ranks = compute_squared_ranks(ranked_parts)\n",
    "\n",
    "    plain_spearman = compute_spearman_correlation(ranked_parts, target_feature)\n"
   ]
  }
 ],
 "metadata": {
  "kernelspec": {
   "display_name": ".venv",
   "language": "python",
   "name": "python3"
  },
  "language_info": {
   "codemirror_mode": {
    "name": "ipython",
    "version": 3
   },
   "file_extension": ".py",
   "mimetype": "text/x-python",
   "name": "python",
   "nbconvert_exporter": "python",
   "pygments_lexer": "ipython3",
   "version": "3.12.5"
  }
 },
 "nbformat": 4,
 "nbformat_minor": 5
}
