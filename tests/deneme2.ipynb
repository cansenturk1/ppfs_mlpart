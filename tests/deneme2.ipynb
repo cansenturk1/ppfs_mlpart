{
 "cells": [
  {
   "cell_type": "code",
   "execution_count": null,
   "id": "5073794e",
   "metadata": {},
   "outputs": [],
   "source": [
    "#imports\n",
    "import numpy as np\n",
    "import pandas as pd\n",
    "from sklearn.feature_selection import mutual_info_classif\n",
    "from sklearn.preprocessing import LabelEncoder\n",
    "import matplotlib.pyplot as plt\n",
    "import random\n"
   ]
  },
  {
   "cell_type": "code",
   "execution_count": null,
   "id": "f41009b8",
   "metadata": {},
   "outputs": [],
   "source": [
    "def read_csv(file_path,has_header):\n",
    "    \"\"\"this function is used for taking the dataset from .csv file making a test train split\n",
    "    and x, y split (has header is either True or False)\"\"\"\n",
    "\n",
    "    #reading the .csv\n",
    "    if has_header:\n",
    "        df = pd.read_csv(file_path, header=0, delimiter=\",\")  # First row as header\n",
    "        print(f\"Dataset shape: {df.shape}\")\n",
    "        print(f\"Column names: {list(df.columns)}\")\n",
    "    else:\n",
    "        df = pd.read_csv(file_path, header=None, delimiter=\",\")  # No header row\n",
    "        print(f\"Dataset shape: {df.shape}\")\n",
    "    \n",
    "    return df\n"
   ]
  },
  {
   "cell_type": "code",
   "execution_count": null,
   "id": "74d57590",
   "metadata": {},
   "outputs": [],
   "source": [
    "dataset_name= \"beans\"\n",
    "df = read_csv(dataset_name +\"_kmeans.csv\", True)\n",
    "label_column = 16\n",
    "number_of_sets = 4"
   ]
  },
  {
   "cell_type": "code",
   "execution_count": null,
   "id": "3e0ee4e2",
   "metadata": {},
   "outputs": [],
   "source": [
    "def mi_for_all(df_name = df, lc = label_column, title = 'complete dataset'):\n",
    "    y = df_name.iloc[:, lc]\n",
    "    x = df_name.drop(df_name.columns[lc], axis=1)\n",
    "    mi_scores = mutual_info_classif(x, y, discrete_features=True)\n",
    "    mi_scores= mi_scores / np.log(2)\n",
    "    mi_df = pd.DataFrame({\"Feature\": x.columns, \"MI_Score\": mi_scores}).sort_values(by=\"MI_Score\", ascending=False)\n",
    "    print(mi_df)\n",
    "    return x,y,mi_df"
   ]
  },
  {
   "cell_type": "code",
   "execution_count": null,
   "id": "94458b77",
   "metadata": {},
   "outputs": [],
   "source": [
    "lowest_mi_column = target_mi_df.iloc[-1]['Feature']\n",
    "print(f\"Column with lowest MI: {lowest_mi_column}\")\n",
    "\n",
    "# Calculate Spearman correlations\n",
    "lowest_mi_data = target_set[lowest_mi_column]\n",
    "correlations = x.corrwith(lowest_mi_data, method='spearman')\n",
    "\n",
    "# Convert to DataFrame and sort\n",
    "corr_df = pd.DataFrame({\n",
    "    'Feature': correlations.index,\n",
    "    'Spearman_Correlation': correlations.abs().values\n",
    "}).sort_values('Spearman_Correlation', ascending=False)\n",
    "\n",
    "# Remove the column that correlates with itself\n",
    "corr_df = corr_df[corr_df['Feature'] != lowest_mi_column]\n",
    "\n",
    "print(f\"Spearman correlations between '{lowest_mi_column}' and x:\")\n",
    "print(corr_df)"
   ]
  },
  {
   "cell_type": "code",
   "execution_count": null,
   "id": "b159777a",
   "metadata": {},
   "outputs": [],
   "source": [
    "\n",
    "parts = np.array_split(np.arange(df.shape[1]), number_of_sets, axis=0)"
   ]
  },
  {
   "cell_type": "code",
   "execution_count": null,
   "id": "1f2cd744",
   "metadata": {},
   "outputs": [],
   "source": [
    "for part in parts:\n",
    "    if label_column in part:\n",
    "        target_set = df.iloc[:, part]\n",
    "        break\n",
    "\n",
    "if target_set is not None:\n",
    "    print(f\"Target set shape: {target_set.shape}\")\n",
    "else:\n",
    "    print(f\"Label column {label_column} not found in any part\")\n",
    "\n",
    "\n",
    "#make label first column on target_set and the last column will be the lowst mi on target_set\n",
    "label_col = df.columns[label_column]\n",
    "col_data = target_set.pop(label_col)  # Remove the column\n",
    "target_set.insert(0, label_col, col_data)  # Insert it at position 0"
   ]
  },
  {
   "cell_type": "code",
   "execution_count": null,
   "id": "3a925c06",
   "metadata": {},
   "outputs": [],
   "source": [
    "a,b,target_mi_df = mi_for_all(df_name=target_set, lc=0, title = 'in target set')\n",
    "\n",
    "lowest_mi_column = target_mi_df.iloc[-1]['Feature']\n",
    "print(f\"Column with lowest MI: {lowest_mi_column}\")\n",
    "\n",
    "# Calculate Spearman correlations\n",
    "lowest_mi_data = target_set[lowest_mi_column]\n",
    "correlations = x.corrwith(lowest_mi_data, method='spearman')\n",
    "\n",
    "# Convert to DataFrame and sort\n",
    "corr_df = pd.DataFrame({\n",
    "    'Feature': correlations.index,\n",
    "    'Spearman_Correlation': correlations.abs().values\n",
    "}).sort_values('Spearman_Correlation', ascending=False)\n",
    "\n",
    "# Remove the column that correlates with itself\n",
    "corr_df = corr_df[corr_df['Feature'] != lowest_mi_column]\n",
    "\n",
    "print(f\"Spearman correlations between '{lowest_mi_column}' and x:\")\n",
    "print(corr_df)\n"
   ]
  },
  {
   "cell_type": "markdown",
   "id": "5f90f6d8",
   "metadata": {},
   "source": [
    "reading the dataset"
   ]
  }
 ],
 "metadata": {
  "kernelspec": {
   "display_name": ".venv (3.12.10)",
   "language": "python",
   "name": "python3"
  },
  "language_info": {
   "codemirror_mode": {
    "name": "ipython",
    "version": 3
   },
   "file_extension": ".py",
   "mimetype": "text/x-python",
   "name": "python",
   "nbconvert_exporter": "python",
   "pygments_lexer": "ipython3",
   "version": "3.12.10"
  }
 },
 "nbformat": 4,
 "nbformat_minor": 5
}
