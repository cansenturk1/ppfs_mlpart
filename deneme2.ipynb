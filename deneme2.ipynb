{
 "cells": [
  {
   "cell_type": "code",
   "execution_count": null,
   "id": "5073794e",
   "metadata": {},
   "outputs": [],
   "source": [
    "#imports\n",
    "import numpy as np\n",
    "import pandas as pd\n",
    "from sklearn.feature_selection import mutual_info_classif\n",
    "from sklearn.preprocessing import LabelEncoder\n",
    "import matplotlib.pyplot as plt\n",
    "import random\n"
   ]
  },
  {
   "cell_type": "code",
   "execution_count": null,
   "id": "f41009b8",
   "metadata": {},
   "outputs": [],
   "source": [
    "def read_csv(file_path,has_header):\n",
    "    \"\"\"this function is used for taking the dataset from .csv file making a test train split\n",
    "    and x, y split (has header is either True or False)\"\"\"\n",
    "\n",
    "    #reading the .csv\n",
    "    if has_header:\n",
    "        df = pd.read_csv(file_path, header=0, delimiter=\",\")  # First row as header\n",
    "        print(f\"Dataset shape: {df.shape}\")\n",
    "        print(f\"Column names: {list(df.columns)}\")\n",
    "    else:\n",
    "        df = pd.read_csv(file_path, header=None, delimiter=\",\")  # No header row\n",
    "        print(f\"Dataset shape: {df.shape}\")\n",
    "    \n",
    "    return df\n"
   ]
  },
  {
   "cell_type": "code",
   "execution_count": null,
   "id": "74d57590",
   "metadata": {},
   "outputs": [],
   "source": [
    "dataset_name= \"beans\"\n",
    "df = read_csv(dataset_name +\"_kmeans.csv\", True)\n",
    "label_column = 16\n",
    "number_of_sets = 4"
   ]
  },
  {
   "cell_type": "code",
   "execution_count": null,
   "id": "94458b77",
   "metadata": {},
   "outputs": [],
   "source": [
    "def mi_for_all(df_name = df, lc = label_column, title = \"for complete dataset\"):\n",
    "    y = df_name.iloc[:, lc]\n",
    "    x = df_name.drop(df_name.columns[lc], axis=1)\n",
    "    mi_scores = mutual_info_classif(x, y, discrete_features=True)\n",
    "    mi_df = pd.DataFrame({\"Feature\": x.columns, \"MI_Score\": mi_scores}).sort_values(by=\"MI_Score\", ascending=False)\n",
    "    print(mi_df)\n",
    "\n",
    "    return x,y,mi_df\n",
    "\n",
    "x,y,mi_df= mi_for_all()\n",
    "mi_df.to_latex('beans_mi.tex', index=True, float_format='%.6f')\n"
   ]
  },
  {
   "cell_type": "markdown",
   "id": "5f90f6d8",
   "metadata": {},
   "source": [
    "reading the dataset"
   ]
  }
 ],
 "metadata": {
  "kernelspec": {
   "display_name": ".venv (3.12.10)",
   "language": "python",
   "name": "python3"
  },
  "language_info": {
   "codemirror_mode": {
    "name": "ipython",
    "version": 3
   },
   "file_extension": ".py",
   "mimetype": "text/x-python",
   "name": "python",
   "nbconvert_exporter": "python",
   "pygments_lexer": "ipython3",
   "version": "3.12.10"
  }
 },
 "nbformat": 4,
 "nbformat_minor": 5
}
