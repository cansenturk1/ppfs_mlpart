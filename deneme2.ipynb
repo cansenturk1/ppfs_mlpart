{
 "cells": [
  {
   "cell_type": "code",
   "execution_count": null,
   "id": "5073794e",
   "metadata": {},
   "outputs": [],
   "source": [
    "#imports\n",
    "import numpy as np\n",
    "import pandas as pd\n",
    "from sklearn.feature_selection import mutual_info_classif\n",
    "from sklearn.preprocessing import LabelEncoder\n",
    "import matplotlib.pyplot as plt\n",
    "import random\n"
   ]
  },
  {
   "cell_type": "code",
   "execution_count": null,
   "id": "dd611de4",
   "metadata": {},
   "outputs": [],
   "source": []
  },
  {
   "cell_type": "code",
   "execution_count": null,
   "id": "f41009b8",
   "metadata": {},
   "outputs": [],
   "source": [
    "def read_csv(file_path,has_header):\n",
    "    \"\"\"this function is used for taking the dataset from .csv file making a test train split\n",
    "    and x, y split (has header is either True or False)\"\"\"\n",
    "\n",
    "    #reading the .csv\n",
    "    if has_header:\n",
    "        df = pd.read_csv(file_path, header=0, delimiter=\",\")  # First row as header\n",
    "        print(f\"Dataset shape: {df.shape}\")\n",
    "        print(f\"Column names: {list(df.columns)}\")\n",
    "    else:\n",
    "        df = pd.read_csv(file_path, header=None, delimiter=\",\")  # No header row\n",
    "        print(f\"Dataset shape: {df.shape}\")\n",
    "    \n",
    "    return df\n"
   ]
  },
  {
   "cell_type": "code",
   "execution_count": null,
   "id": "74d57590",
   "metadata": {},
   "outputs": [],
   "source": [
    "dataset_name= \"beans\"\n",
    "df = read_csv(dataset_name +\"_kmeans.csv\", True)\n",
    "label_column = 16\n",
    "number_of_sets = 4"
   ]
  },
  {
   "cell_type": "code",
   "execution_count": null,
   "id": "94458b77",
   "metadata": {},
   "outputs": [],
   "source": [
    "lowest_mi_column = target_mi_df.iloc[-1]['Feature']\n",
    "print(f\"Column with lowest MI: {lowest_mi_column}\")\n",
    "\n",
    "# Calculate Spearman correlations\n",
    "lowest_mi_data = target_set[lowest_mi_column]\n",
    "correlations = x.corrwith(lowest_mi_data, method='spearman')\n",
    "\n",
    "# Convert to DataFrame and sort\n",
    "corr_df = pd.DataFrame({\n",
    "    'Feature': correlations.index,\n",
    "    'Spearman_Correlation': correlations.abs().values\n",
    "}).sort_values('Spearman_Correlation', ascending=False)\n",
    "\n",
    "# Remove the column that correlates with itself\n",
    "corr_df = corr_df[corr_df['Feature'] != lowest_mi_column]\n",
    "\n",
    "print(f\"Spearman correlations between '{lowest_mi_column}' and x:\")\n",
    "print(corr_df)"
   ]
  },
  {
   "cell_type": "markdown",
   "id": "5f90f6d8",
   "metadata": {},
   "source": [
    "reading the dataset"
   ]
  }
 ],
 "metadata": {
  "kernelspec": {
   "display_name": ".venv (3.12.10)",
   "language": "python",
   "name": "python3"
  },
  "language_info": {
   "codemirror_mode": {
    "name": "ipython",
    "version": 3
   },
   "file_extension": ".py",
   "mimetype": "text/x-python",
   "name": "python",
   "nbconvert_exporter": "python",
   "pygments_lexer": "ipython3",
   "version": "3.12.10"
  }
 },
 "nbformat": 4,
 "nbformat_minor": 5
}
