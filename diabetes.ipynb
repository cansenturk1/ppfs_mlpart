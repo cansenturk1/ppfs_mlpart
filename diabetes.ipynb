{
 "cells": [
  {
   "cell_type": "markdown",
   "id": "843d0307",
   "metadata": {},
   "source": [
    "imports"
   ]
  },
  {
   "cell_type": "code",
   "execution_count": 3,
   "id": "8c42f540",
   "metadata": {},
   "outputs": [],
   "source": [
    "import pandas as pd\n",
    "import numpy as np\n",
    "from sklearn.model_selection import train_test_split\n",
    "from sklearn.metrics import accuracy_score, classification_report, confusion_matrix, precision_score, recall_score\n",
    "from sklearn.model_selection import StratifiedKFold, cross_validate"
   ]
  },
  {
   "cell_type": "code",
   "execution_count": 4,
   "id": "d1cbabdf",
   "metadata": {},
   "outputs": [],
   "source": [
    "\n",
    "def preprocess(file_path,split_value,target_column_index,has_header):\n",
    "    \"\"\"this function is used for taking the dataset from .csv file making a test train split\n",
    "    and x, y split (has header is either True or False)\"\"\"\n",
    "\n",
    "    #reading the .csv\n",
    "    if has_header:\n",
    "        df = pd.read_csv(file_path, header=0, delimiter=\",\")  # First row as header\n",
    "        print(f\"Dataset shape: {df.shape}\")\n",
    "        print(f\"Column names: {list(df.columns)}\")\n",
    "    else:\n",
    "        df = pd.read_csv(file_path, header=None, delimiter=\",\")  # No header row\n",
    "        print(f\"Dataset shape: {df.shape}\")\n",
    "\n",
    "    #making target variable split\n",
    "    x_ds = df.drop(df.columns[target_column_index], axis=1)  # All except target\n",
    "    y_ds = df.iloc[:, target_column_index]  # Target column only\n",
    "\n",
    "    #making test train split\n",
    "    x_train, x_test, y_train, y_test = train_test_split(x_ds, y_ds, test_size=split_value, random_state=10, shuffle= True)\n",
    "    print(f'shape of x training: {x_train.shape}')\n",
    "    print(f'shape of x testing: {x_test.shape}')\n",
    "\n",
    "    return x_train, x_test, y_train, y_test, x_ds, y_ds"
   ]
  },
  {
   "cell_type": "markdown",
   "id": "82d00bbb",
   "metadata": {},
   "source": [
    "making target variable numarical(optional)"
   ]
  },
  {
   "cell_type": "code",
   "execution_count": 5,
   "id": "cb769c75",
   "metadata": {},
   "outputs": [],
   "source": [
    "def implement(model):\n",
    "    \"\"\"this function contains implementation (modeling and fitting) on the dataset with 1 \n",
    "    initiations and shows the results of the implementations. (it needs to take target variable varieties ).\n",
    "    Note: This function doesn't have compile it is not appoprate to use this function for perceptron learning algs.\n",
    "    because it doesn't have training vs test accuracy comparison and doesn't have epochs and .argmax(axis=1) \"\"\"\n",
    "    #initiante ml\n",
    "    model.fit(x_train, y_train)\n",
    "    #model evaluation\n",
    "    y_pred = model.predict(x_test)\n",
    "\n",
    "    print(f'Classification report: {classification_report(y_test, y_pred)}')\n",
    "    print(f\"Accuracy score is: {accuracy_score(y_test,y_pred)}\")\n",
    "    print(f\"Percision score is: {precision_score(y_test,y_pred, average='weighted')}\")\n",
    "    print(f\"Recall score is: {recall_score(y_test,y_pred, average='weighted')}\")\n",
    "    print(f'Confusion matrix: {confusion_matrix(y_test, y_pred)}')\n",
    "\n",
    "    # StratifiedKFold evaluations\n",
    "    skf = StratifiedKFold(n_splits=10, shuffle=True, random_state=10)\n",
    "    scoring = ['accuracy', 'precision_weighted', 'recall_weighted']\n",
    "    cv_results = cross_validate(model, x_ds, y_ds, cv=skf, scoring=scoring)\n",
    "    print(f\"StratifiedKFold CV Accuracy: {cv_results['test_accuracy'].mean():.4f} (+/- {cv_results['test_accuracy'].std() * 2:.4f})\")\n",
    "    print(f\"StratifiedKFold CV Precision: {cv_results['test_precision_weighted'].mean():.4f} (+/- {cv_results['test_precision_weighted'].std() * 2:.4f})\")\n",
    "    print(f\"StratifiedKFold CV Recall: {cv_results['test_recall_weighted'].mean():.4f} (+/- {cv_results['test_recall_weighted'].std() * 2:.4f})\")\n",
    "        "
   ]
  },
  {
   "cell_type": "markdown",
   "id": "e68b2693",
   "metadata": {},
   "source": [
    "Run the preprocess for diffrent datasets"
   ]
  },
  {
   "cell_type": "code",
   "execution_count": 6,
   "id": "65c5cd02",
   "metadata": {},
   "outputs": [
    {
     "name": "stdout",
     "output_type": "stream",
     "text": [
      "Dataset shape: (13611, 17)\n",
      "Column names: ['Area', 'Perimeter', 'MajorAxisLength', 'MinorAxisLength', 'AspectRation', 'Eccentricity', 'ConvexArea', 'EquivDiameter', 'Extent', 'Solidity', 'roundness', 'Compactness', 'ShapeFactor1', 'ShapeFactor2', 'ShapeFactor3', 'ShapeFactor4', 'Class']\n",
      "shape of x training: (10888, 16)\n",
      "shape of x testing: (2723, 16)\n"
     ]
    }
   ],
   "source": [
    "x_train, x_test, y_train, y_test, x_ds, y_ds = preprocess(\"beans_kmeans.csv\", 0.2, 16, True)"
   ]
  },
  {
   "cell_type": "code",
   "execution_count": 11,
   "id": "b5888940",
   "metadata": {},
   "outputs": [
    {
     "name": "stdout",
     "output_type": "stream",
     "text": [
      "Dataset shape: (768, 9)\n",
      "Column names: ['Pregnancies', 'Glucose', 'BloodPressure', 'SkinThickness', 'Insulin', 'BMI', 'DiabetesPedigreeFunction', 'Age', 'Outcome']\n",
      "shape of x training: (614, 8)\n",
      "shape of x testing: (154, 8)\n"
     ]
    }
   ],
   "source": [
    "x_train, x_test, y_train, y_test, x_ds, y_ds = preprocess(\"diabetes_kmeans.csv\", 0.2, 8, True)"
   ]
  },
  {
   "cell_type": "code",
   "execution_count": null,
   "id": "92cab410",
   "metadata": {},
   "outputs": [],
   "source": [
    "x_train, x_test, y_train, y_test, x_ds, y_ds = preprocess(\"divorce.csv\", 0.2, 54, True)"
   ]
  },
  {
   "cell_type": "code",
   "execution_count": null,
   "id": "f054b17a",
   "metadata": {},
   "outputs": [],
   "source": [
    "x_train, x_test, y_train, y_test, x_ds, y_ds = preprocess(\"parkinsons_kmeans.csv\", 0.2, 17, True)"
   ]
  },
  {
   "cell_type": "code",
   "execution_count": null,
   "id": "a1930ac9",
   "metadata": {},
   "outputs": [],
   "source": [
    "x_train, x_test, y_train, y_test, x_ds, y_ds = preprocess(\"rice_binned_kmeans.csv\", 0.2, 7, True)"
   ]
  },
  {
   "cell_type": "code",
   "execution_count": null,
   "id": "f4d39b8d",
   "metadata": {},
   "outputs": [],
   "source": [
    "x_train, x_test, y_train, y_test, x_ds, y_ds = preprocess(\"wdbc_binned_kmeans.csv\", 0.2, 1, True)"
   ]
  },
  {
   "cell_type": "markdown",
   "id": "2a658522",
   "metadata": {},
   "source": [
    "Run the implement function for diffrent models"
   ]
  },
  {
   "cell_type": "code",
   "execution_count": 7,
   "id": "27c4bcee",
   "metadata": {},
   "outputs": [
    {
     "name": "stdout",
     "output_type": "stream",
     "text": [
      "Classification report:               precision    recall  f1-score   support\n",
      "\n",
      "    BARBUNYA       0.93      0.91      0.92       233\n",
      "      BOMBAY       1.00      0.99      1.00       118\n",
      "        CALI       0.93      0.94      0.93       330\n",
      "    DERMASON       0.90      0.91      0.90       706\n",
      "       HOROZ       0.97      0.93      0.95       396\n",
      "       SEKER       0.95      0.94      0.94       411\n",
      "        SIRA       0.84      0.85      0.85       529\n",
      "\n",
      "    accuracy                           0.91      2723\n",
      "   macro avg       0.93      0.93      0.93      2723\n",
      "weighted avg       0.92      0.91      0.91      2723\n",
      "\n",
      "Accuracy score is: 0.9144326110907087\n",
      "Percision score is: 0.9151220519996149\n",
      "Recall score is: 0.9144326110907087\n",
      "Confusion matrix: [[213   0  14   0   1   1   4]\n",
      " [  0 117   1   0   0   0   0]\n",
      " [ 11   0 310   0   6   1   2]\n",
      " [  0   0   0 643   0   9  54]\n",
      " [  0   0   7   5 370   0  14]\n",
      " [  4   0   0  11   0 385  11]\n",
      " [  1   0   3  59   5   9 452]]\n",
      "StratifiedKFold CV Accuracy: 0.9121 (+/- 0.0170)\n",
      "StratifiedKFold CV Precision: 0.9134 (+/- 0.0172)\n",
      "StratifiedKFold CV Recall: 0.9121 (+/- 0.0170)\n"
     ]
    }
   ],
   "source": [
    "#KNN\n",
    "from sklearn.neighbors import KNeighborsClassifier\n",
    "implement(KNeighborsClassifier())"
   ]
  },
  {
   "cell_type": "code",
   "execution_count": 8,
   "id": "fdd68222",
   "metadata": {},
   "outputs": [
    {
     "name": "stdout",
     "output_type": "stream",
     "text": [
      "Classification report:               precision    recall  f1-score   support\n",
      "\n",
      "    BARBUNYA       0.91      0.74      0.82       233\n",
      "      BOMBAY       1.00      1.00      1.00       118\n",
      "        CALI       0.82      0.75      0.78       330\n",
      "    DERMASON       0.89      0.79      0.84       706\n",
      "       HOROZ       0.78      0.96      0.86       396\n",
      "       SEKER       0.87      0.89      0.88       411\n",
      "        SIRA       0.76      0.83      0.79       529\n",
      "\n",
      "    accuracy                           0.84      2723\n",
      "   macro avg       0.86      0.85      0.85      2723\n",
      "weighted avg       0.84      0.84      0.84      2723\n",
      "\n",
      "Accuracy score is: 0.8380462724935732\n",
      "Percision score is: 0.8439346547498877\n",
      "Recall score is: 0.8380462724935732\n",
      "Confusion matrix: [[173   0  50   0   5   1   4]\n",
      " [  0 118   0   0   0   0   0]\n",
      " [  6   0 247   0  75   1   1]\n",
      " [  0   0   0 559  10  25 112]\n",
      " [  1   0   3   2 380   0  10]\n",
      " [  8   0   0  25   0 367  11]\n",
      " [  3   0   2  39  20  27 438]]\n"
     ]
    },
    {
     "name": "stderr",
     "output_type": "stream",
     "text": [
      "e:\\VS Code Projects\\ppfs_mlpart\\.venv\\Lib\\site-packages\\sklearn\\metrics\\_classification.py:1731: UndefinedMetricWarning: Precision is ill-defined and being set to 0.0 in labels with no predicted samples. Use `zero_division` parameter to control this behavior.\n",
      "  _warn_prf(average, modifier, f\"{metric.capitalize()} is\", result.shape[0])\n",
      "e:\\VS Code Projects\\ppfs_mlpart\\.venv\\Lib\\site-packages\\sklearn\\metrics\\_classification.py:1731: UndefinedMetricWarning: Precision is ill-defined and being set to 0.0 in labels with no predicted samples. Use `zero_division` parameter to control this behavior.\n",
      "  _warn_prf(average, modifier, f\"{metric.capitalize()} is\", result.shape[0])\n",
      "e:\\VS Code Projects\\ppfs_mlpart\\.venv\\Lib\\site-packages\\sklearn\\metrics\\_classification.py:1731: UndefinedMetricWarning: Precision is ill-defined and being set to 0.0 in labels with no predicted samples. Use `zero_division` parameter to control this behavior.\n",
      "  _warn_prf(average, modifier, f\"{metric.capitalize()} is\", result.shape[0])\n",
      "e:\\VS Code Projects\\ppfs_mlpart\\.venv\\Lib\\site-packages\\sklearn\\metrics\\_classification.py:1731: UndefinedMetricWarning: Precision is ill-defined and being set to 0.0 in labels with no predicted samples. Use `zero_division` parameter to control this behavior.\n",
      "  _warn_prf(average, modifier, f\"{metric.capitalize()} is\", result.shape[0])\n"
     ]
    },
    {
     "name": "stdout",
     "output_type": "stream",
     "text": [
      "StratifiedKFold CV Accuracy: 0.8327 (+/- 0.0625)\n",
      "StratifiedKFold CV Precision: 0.8318 (+/- 0.0727)\n",
      "StratifiedKFold CV Recall: 0.8327 (+/- 0.0625)\n"
     ]
    },
    {
     "name": "stderr",
     "output_type": "stream",
     "text": [
      "e:\\VS Code Projects\\ppfs_mlpart\\.venv\\Lib\\site-packages\\sklearn\\metrics\\_classification.py:1731: UndefinedMetricWarning: Precision is ill-defined and being set to 0.0 in labels with no predicted samples. Use `zero_division` parameter to control this behavior.\n",
      "  _warn_prf(average, modifier, f\"{metric.capitalize()} is\", result.shape[0])\n"
     ]
    }
   ],
   "source": [
    "#Ada Boost\n",
    "from sklearn.ensemble import AdaBoostClassifier \n",
    "implement(AdaBoostClassifier(n_estimators=100, random_state = 10))"
   ]
  },
  {
   "cell_type": "code",
   "execution_count": 9,
   "id": "fba3aeb4",
   "metadata": {},
   "outputs": [
    {
     "name": "stdout",
     "output_type": "stream",
     "text": [
      "Classification report:               precision    recall  f1-score   support\n",
      "\n",
      "    BARBUNYA       0.93      0.93      0.93       233\n",
      "      BOMBAY       1.00      1.00      1.00       118\n",
      "        CALI       0.94      0.95      0.95       330\n",
      "    DERMASON       0.92      0.91      0.91       706\n",
      "       HOROZ       0.96      0.93      0.94       396\n",
      "       SEKER       0.95      0.93      0.94       411\n",
      "        SIRA       0.85      0.89      0.87       529\n",
      "\n",
      "    accuracy                           0.92      2723\n",
      "   macro avg       0.94      0.93      0.94      2723\n",
      "weighted avg       0.92      0.92      0.92      2723\n",
      "\n",
      "Accuracy score is: 0.922879177377892\n",
      "Percision score is: 0.923644267397618\n",
      "Recall score is: 0.922879177377892\n",
      "Confusion matrix: [[216   0  11   0   1   1   4]\n",
      " [  0 118   0   0   0   0   0]\n",
      " [ 10   0 313   0   5   1   1]\n",
      " [  0   0   0 644   1   9  52]\n",
      " [  0   0   8   7 369   0  12]\n",
      " [  6   0   0  10   0 383  12]\n",
      " [  0   0   0  41  10   8 470]]\n",
      "StratifiedKFold CV Accuracy: 0.9237 (+/- 0.0164)\n",
      "StratifiedKFold CV Precision: 0.9246 (+/- 0.0158)\n",
      "StratifiedKFold CV Recall: 0.9237 (+/- 0.0164)\n"
     ]
    }
   ],
   "source": [
    "#SVM\n",
    "from sklearn.svm import SVC \n",
    "implement(SVC(max_iter = -1, random_state=10))"
   ]
  },
  {
   "cell_type": "code",
   "execution_count": 10,
   "id": "1c80a70a",
   "metadata": {},
   "outputs": [
    {
     "name": "stdout",
     "output_type": "stream",
     "text": [
      "Classification report:               precision    recall  f1-score   support\n",
      "\n",
      "    BARBUNYA       0.82      0.77      0.79       233\n",
      "      BOMBAY       1.00      0.99      1.00       118\n",
      "        CALI       0.85      0.90      0.87       330\n",
      "    DERMASON       0.94      0.86      0.90       706\n",
      "       HOROZ       0.96      0.92      0.94       396\n",
      "       SEKER       0.91      0.94      0.93       411\n",
      "        SIRA       0.79      0.89      0.84       529\n",
      "\n",
      "    accuracy                           0.89      2723\n",
      "   macro avg       0.90      0.90      0.90      2723\n",
      "weighted avg       0.89      0.89      0.89      2723\n",
      "\n",
      "Accuracy score is: 0.8887256702166728\n",
      "Percision score is: 0.8924397974910343\n",
      "Recall score is: 0.8887256702166728\n",
      "Confusion matrix: [[179   0  42   0   0   1  11]\n",
      " [  1 117   0   0   0   0   0]\n",
      " [ 27   0 297   0   4   1   1]\n",
      " [  0   0   0 604   0  20  82]\n",
      " [  0   0  11   6 365   0  14]\n",
      " [  5   0   0   5   0 387  14]\n",
      " [  6   0   0  27  11  14 471]]\n",
      "StratifiedKFold CV Accuracy: 0.8899 (+/- 0.0154)\n",
      "StratifiedKFold CV Precision: 0.8932 (+/- 0.0155)\n",
      "StratifiedKFold CV Recall: 0.8899 (+/- 0.0154)\n"
     ]
    }
   ],
   "source": [
    "#Gaussian Naive Bayes\n",
    "from sklearn.naive_bayes import GaussianNB \n",
    "implement(GaussianNB())"
   ]
  },
  {
   "cell_type": "code",
   "execution_count": 11,
   "id": "c072b9cb",
   "metadata": {},
   "outputs": [
    {
     "name": "stdout",
     "output_type": "stream",
     "text": [
      "Classification report:               precision    recall  f1-score   support\n",
      "\n",
      "    BARBUNYA       0.91      0.92      0.91       233\n",
      "      BOMBAY       1.00      1.00      1.00       118\n",
      "        CALI       0.94      0.93      0.94       330\n",
      "    DERMASON       0.89      0.92      0.90       706\n",
      "       HOROZ       0.96      0.92      0.94       396\n",
      "       SEKER       0.95      0.93      0.94       411\n",
      "        SIRA       0.85      0.86      0.86       529\n",
      "\n",
      "    accuracy                           0.91      2723\n",
      "   macro avg       0.93      0.93      0.93      2723\n",
      "weighted avg       0.92      0.91      0.91      2723\n",
      "\n",
      "Accuracy score is: 0.9144326110907087\n",
      "Percision score is: 0.9153492253695523\n",
      "Recall score is: 0.9144326110907087\n",
      "Confusion matrix: [[214   0   9   0   1   2   7]\n",
      " [  0 118   0   0   0   0   0]\n",
      " [ 14   0 308   0   6   1   1]\n",
      " [  0   0   0 648   1   8  49]\n",
      " [  2   0   8  10 363   0  13]\n",
      " [  3   0   0  16   0 382  10]\n",
      " [  2   0   1  55   7   7 457]]\n",
      "StratifiedKFold CV Accuracy: 0.9201 (+/- 0.0121)\n",
      "StratifiedKFold CV Precision: 0.9206 (+/- 0.0117)\n",
      "StratifiedKFold CV Recall: 0.9201 (+/- 0.0121)\n"
     ]
    }
   ],
   "source": [
    "#Random Forests\n",
    "from sklearn.ensemble import RandomForestClassifier\n",
    "implement(RandomForestClassifier())\n"
   ]
  },
  {
   "cell_type": "code",
   "execution_count": 12,
   "id": "816975ec",
   "metadata": {},
   "outputs": [
    {
     "name": "stdout",
     "output_type": "stream",
     "text": [
      "Classification report:               precision    recall  f1-score   support\n",
      "\n",
      "    BARBUNYA       0.85      0.88      0.86       233\n",
      "      BOMBAY       1.00      1.00      1.00       118\n",
      "        CALI       0.91      0.92      0.91       330\n",
      "    DERMASON       0.86      0.88      0.87       706\n",
      "       HOROZ       0.95      0.91      0.93       396\n",
      "       SEKER       0.93      0.90      0.91       411\n",
      "        SIRA       0.80      0.80      0.80       529\n",
      "\n",
      "    accuracy                           0.88      2723\n",
      "   macro avg       0.90      0.90      0.90      2723\n",
      "weighted avg       0.88      0.88      0.88      2723\n",
      "\n",
      "Accuracy score is: 0.8817480719794345\n",
      "Percision score is: 0.8826866527416461\n",
      "Recall score is: 0.8817480719794345\n",
      "Confusion matrix: [[205   0  17   0   2   1   8]\n",
      " [  0 118   0   0   0   0   0]\n",
      " [ 14   0 303   0  10   2   1]\n",
      " [  0   0   0 624   4  12  66]\n",
      " [  5   0   9   6 359   0  17]\n",
      " [  6   0   0  19   0 369  17]\n",
      " [ 11   0   4  74   3  14 423]]\n",
      "StratifiedKFold CV Accuracy: 0.8938 (+/- 0.0179)\n",
      "StratifiedKFold CV Precision: 0.8938 (+/- 0.0178)\n",
      "StratifiedKFold CV Recall: 0.8938 (+/- 0.0179)\n"
     ]
    }
   ],
   "source": [
    "#Decesion Trees\n",
    "from sklearn.tree import DecisionTreeClassifier\n",
    "implement(DecisionTreeClassifier())"
   ]
  }
 ],
 "metadata": {
  "kernelspec": {
   "display_name": ".venv (3.12.10)",
   "language": "python",
   "name": "python3"
  },
  "language_info": {
   "codemirror_mode": {
    "name": "ipython",
    "version": 3
   },
   "file_extension": ".py",
   "mimetype": "text/x-python",
   "name": "python",
   "nbconvert_exporter": "python",
   "pygments_lexer": "ipython3",
   "version": "3.12.10"
  }
 },
 "nbformat": 4,
 "nbformat_minor": 5
}
